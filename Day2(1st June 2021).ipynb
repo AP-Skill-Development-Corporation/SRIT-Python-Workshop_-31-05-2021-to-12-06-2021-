{
 "cells": [
  {
   "cell_type": "markdown",
   "metadata": {},
   "source": [
    "## Today Topics\n",
    "- Print()\n",
    "- Errors in Python\n",
    "- Identifiers\n",
    "- Variables\n",
    "- Data types\n",
    "- Data type Conversion/Casting\n",
    "- Dynamic reading"
   ]
  },
  {
   "cell_type": "code",
   "execution_count": 10,
   "metadata": {},
   "outputs": [],
   "source": [
    "# Write a python program to print \"Welcome to Python Programming\"\n",
    "# python is an interpreted language, \n",
    "## case senstitive and space senstive language"
   ]
  },
  {
   "cell_type": "code",
   "execution_count": 11,
   "metadata": {},
   "outputs": [
    {
     "name": "stdout",
     "output_type": "stream",
     "text": [
      "Welcome to Python Programming\n"
     ]
    }
   ],
   "source": [
    "print(\"Welcome to Python Programming\") # is used to display the message/value \n",
    "                                        # on the sreen as output"
   ]
  },
  {
   "cell_type": "code",
   "execution_count": 12,
   "metadata": {},
   "outputs": [
    {
     "name": "stdout",
     "output_type": "stream",
     "text": [
      "Welcome to Python Programming\n"
     ]
    }
   ],
   "source": [
    "# python allows us to use both quotations, '' or \"\"\n",
    "print('Welcome to Python Programming')"
   ]
  },
  {
   "cell_type": "code",
   "execution_count": 13,
   "metadata": {},
   "outputs": [
    {
     "name": "stdout",
     "output_type": "stream",
     "text": [
      "9+5\n"
     ]
    }
   ],
   "source": [
    "# addition(9,5)\n",
    "print(\"9+5\") # value, message/content"
   ]
  },
  {
   "cell_type": "code",
   "execution_count": 14,
   "metadata": {},
   "outputs": [
    {
     "name": "stdout",
     "output_type": "stream",
     "text": [
      "14\n"
     ]
    }
   ],
   "source": [
    "print(9+5) # value"
   ]
  },
  {
   "cell_type": "code",
   "execution_count": 15,
   "metadata": {},
   "outputs": [
    {
     "name": "stdout",
     "output_type": "stream",
     "text": [
      "24\n"
     ]
    }
   ],
   "source": [
    "print(8*3) #* represents the multiplication"
   ]
  },
  {
   "cell_type": "code",
   "execution_count": 16,
   "metadata": {},
   "outputs": [
    {
     "name": "stdout",
     "output_type": "stream",
     "text": [
      "ruthuruthuruthu\n"
     ]
    }
   ],
   "source": [
    "# I want to print name for 3 times,ruthu,ruthu,ruthu\n",
    "print(\"ruthu\"*3) # word/strings"
   ]
  },
  {
   "cell_type": "markdown",
   "metadata": {},
   "source": [
    "### Identifiers\n",
    "- An identifier is the identity of perticular variable,class object etc\n",
    "- It is naming convention given to variables or objects\n",
    "- Should start from A-Z or a-z or _ (underscore)\n",
    "- you should not use \" \", space a character is python"
   ]
  },
  {
   "cell_type": "code",
   "execution_count": 17,
   "metadata": {},
   "outputs": [
    {
     "name": "stdout",
     "output_type": "stream",
     "text": [
      "10\n"
     ]
    }
   ],
   "source": [
    "# printed the data \n",
    "number=10 #number is the variable that stores the value 10\n",
    "print(number)"
   ]
  },
  {
   "cell_type": "code",
   "execution_count": 18,
   "metadata": {},
   "outputs": [
    {
     "name": "stdout",
     "output_type": "stream",
     "text": [
      "number\n"
     ]
    }
   ],
   "source": [
    "print(\"number\")"
   ]
  },
  {
   "cell_type": "markdown",
   "metadata": {},
   "source": [
    "### Variable \n",
    "- A variable is a container that is used to store the data / information\n",
    "- which holds the values\n",
    "- **Examples**\n",
    "    - number=10 X(int,float,str)\n",
    "    - name=\"Ruthu\"\n",
    "    - cgpa=9.3"
   ]
  },
  {
   "cell_type": "markdown",
   "metadata": {},
   "source": [
    "No type declaration in Python"
   ]
  },
  {
   "cell_type": "markdown",
   "metadata": {},
   "source": [
    "#### Types of variable declaration\n",
    "- mutli varibale assignment\n",
    "- mutli assignments"
   ]
  },
  {
   "cell_type": "code",
   "execution_count": 20,
   "metadata": {},
   "outputs": [
    {
     "name": "stdout",
     "output_type": "stream",
     "text": [
      "10 6 15\n",
      "10,6,15\n"
     ]
    }
   ],
   "source": [
    "x=10\n",
    "y=6\n",
    "z=15\n",
    "print(x,y,z)\n",
    "# programmer,you know the i/p and o/p\n",
    "print(x,y,z,sep=\",\") # separator operator, which separates the outputs"
   ]
  },
  {
   "cell_type": "code",
   "execution_count": 22,
   "metadata": {},
   "outputs": [
    {
     "name": "stdout",
     "output_type": "stream",
     "text": [
      "10\n",
      "6 15@"
     ]
    }
   ],
   "source": [
    "print(x,end=\"\\n\") # new line\n",
    "print(y,end=\" \")\n",
    "print(z,end=\"@\")"
   ]
  },
  {
   "cell_type": "code",
   "execution_count": 24,
   "metadata": {},
   "outputs": [
    {
     "name": "stdout",
     "output_type": "stream",
     "text": [
      "10 6 15,"
     ]
    }
   ],
   "source": [
    "print(x,y,z,end=\",\")"
   ]
  },
  {
   "cell_type": "markdown",
   "metadata": {},
   "source": [
    "#### operators used in print()\n",
    "- end=\"delimeter\"\n",
    "    - ends the print() statement\n",
    "- sep=\"\"\n",
    "    - separates the outputs in print()"
   ]
  },
  {
   "cell_type": "markdown",
   "metadata": {},
   "source": [
    "### Errors in Python\n",
    "- An invalid statement which not execucted\n",
    "- 3 types of Errors in python.\n",
    "    - Syntax Error\n",
    "        - Error is related to Syntax\n",
    "    -  Value Error\n",
    "        - type error,file not found error\n",
    "    - Indenation Error\n",
    "        - Error is related to space"
   ]
  },
  {
   "cell_type": "code",
   "execution_count": 26,
   "metadata": {
    "collapsed": true
   },
   "outputs": [
    {
     "ename": "SyntaxError",
     "evalue": "EOL while scanning string literal (<ipython-input-26-9d28ca1bd62d>, line 1)",
     "output_type": "error",
     "traceback": [
      "\u001b[1;36m  File \u001b[1;32m\"<ipython-input-26-9d28ca1bd62d>\"\u001b[1;36m, line \u001b[1;32m1\u001b[0m\n\u001b[1;33m    print(\"started with double quotes and ended with single quotes') # both quotations\u001b[0m\n\u001b[1;37m                                                                                      ^\u001b[0m\n\u001b[1;31mSyntaxError\u001b[0m\u001b[1;31m:\u001b[0m EOL while scanning string literal\n"
     ]
    }
   ],
   "source": [
    "print(\"started with double quotes and ended with single quotes') # both quotations"
   ]
  },
  {
   "cell_type": "code",
   "execution_count": 27,
   "metadata": {},
   "outputs": [],
   "source": [
    "#  10+15\n",
    "# 90-50\n",
    "# your surname from your full name"
   ]
  },
  {
   "cell_type": "code",
   "execution_count": 28,
   "metadata": {},
   "outputs": [
    {
     "name": "stdout",
     "output_type": "stream",
     "text": [
      "135\n"
     ]
    }
   ],
   "source": [
    "print(90+45)"
   ]
  },
  {
   "cell_type": "code",
   "execution_count": 29,
   "metadata": {},
   "outputs": [
    {
     "name": "stdout",
     "output_type": "stream",
     "text": [
      "6\n"
     ]
    }
   ],
   "source": [
    "print(9-3)"
   ]
  },
  {
   "cell_type": "code",
   "execution_count": 30,
   "metadata": {},
   "outputs": [
    {
     "name": "stdout",
     "output_type": "stream",
     "text": [
      "ruthumeda\n"
     ]
    }
   ],
   "source": [
    "# word and a number\n",
    "print(\"ruthu\"+\"meda\")"
   ]
  },
  {
   "cell_type": "code",
   "execution_count": 31,
   "metadata": {
    "collapsed": true
   },
   "outputs": [
    {
     "ename": "TypeError",
     "evalue": "can only concatenate str (not \"int\") to str",
     "output_type": "error",
     "traceback": [
      "\u001b[1;31m---------------------------------------------------------------------------\u001b[0m",
      "\u001b[1;31mTypeError\u001b[0m                                 Traceback (most recent call last)",
      "\u001b[1;32m<ipython-input-31-507a5f19d0db>\u001b[0m in \u001b[0;36m<module>\u001b[1;34m\u001b[0m\n\u001b[1;32m----> 1\u001b[1;33m \u001b[0mprint\u001b[0m\u001b[1;33m(\u001b[0m\u001b[1;34m\"ruthu\"\u001b[0m\u001b[1;33m+\u001b[0m\u001b[1;36m130417\u001b[0m\u001b[1;33m)\u001b[0m\u001b[1;33m\u001b[0m\u001b[1;33m\u001b[0m\u001b[0m\n\u001b[0m",
      "\u001b[1;31mTypeError\u001b[0m: can only concatenate str (not \"int\") to str"
     ]
    }
   ],
   "source": [
    "print(\"ruthu\"+130417)"
   ]
  },
  {
   "cell_type": "code",
   "execution_count": 32,
   "metadata": {},
   "outputs": [
    {
     "name": "stdout",
     "output_type": "stream",
     "text": [
      "hi\n"
     ]
    }
   ],
   "source": [
    "     print('hi')"
   ]
  },
  {
   "cell_type": "code",
   "execution_count": 33,
   "metadata": {},
   "outputs": [
    {
     "name": "stdout",
     "output_type": "stream",
     "text": [
      "10,10,10\n"
     ]
    }
   ],
   "source": [
    "f=10\n",
    "s=10\n",
    "th=10\n",
    "print(f,s,th,sep=\",\")\n",
    "# no.of lines of code"
   ]
  },
  {
   "cell_type": "code",
   "execution_count": 34,
   "metadata": {},
   "outputs": [
    {
     "name": "stdout",
     "output_type": "stream",
     "text": [
      "10\n"
     ]
    }
   ],
   "source": [
    "f=s=th=10 # \n",
    "print(s)"
   ]
  },
  {
   "cell_type": "code",
   "execution_count": 36,
   "metadata": {},
   "outputs": [
    {
     "name": "stdout",
     "output_type": "stream",
     "text": [
      "67 90\n"
     ]
    }
   ],
   "source": [
    "#mutli assignments in a single\n",
    "a=67\n",
    "b=90\n",
    "print(a,b)"
   ]
  },
  {
   "cell_type": "code",
   "execution_count": 38,
   "metadata": {},
   "outputs": [
    {
     "name": "stdout",
     "output_type": "stream",
     "text": [
      "90,67\n"
     ]
    }
   ],
   "source": [
    "a,b=67,90\n",
    "print(b,a,sep=\",\")"
   ]
  },
  {
   "cell_type": "markdown",
   "metadata": {},
   "source": [
    "variable declaration is possible in the middle of program in C<br>\n",
    "sometimes it is not possible in python"
   ]
  },
  {
   "cell_type": "markdown",
   "metadata": {},
   "source": [
    "### Data types\n",
    "- Data is of many types in realtime\n",
    "- Address:name,c/o,house num,street, mobile number(numeric)\n",
    "- 3 types of data\n",
    "    - **int**\n",
    "        - numerical value/integer value from -inifinite to +infinite\n",
    "    - **float**\n",
    "        - floating valuee, point values\n",
    "    - **str**\n",
    "        - words,sentence \"\" ,''\n",
    "        - a character,collection of character,word\n"
   ]
  },
  {
   "cell_type": "code",
   "execution_count": 2,
   "metadata": {},
   "outputs": [
    {
     "name": "stdout",
     "output_type": "stream",
     "text": [
      "35\n",
      "35.0\n"
     ]
    }
   ],
   "source": [
    "n=35\n",
    "print(n)\n",
    "#convert int into float by using float() pre-defined in python\n",
    "f=float(35)\n",
    "print(f)"
   ]
  },
  {
   "cell_type": "code",
   "execution_count": 4,
   "metadata": {},
   "outputs": [
    {
     "name": "stdout",
     "output_type": "stream",
     "text": [
      "Integer value 9\n",
      "10\n"
     ]
    }
   ],
   "source": [
    "gpa=9.3 # float\n",
    "x=10.8\n",
    "num=int(gpa) # \n",
    "print(\"Integer value\",num) # sep\n",
    "y=int(x)\n",
    "print(y) # floor value,ceil value"
   ]
  },
  {
   "cell_type": "code",
   "execution_count": 7,
   "metadata": {},
   "outputs": [
    {
     "name": "stdout",
     "output_type": "stream",
     "text": [
      "123 <class 'int'>\n"
     ]
    },
    {
     "data": {
      "text/plain": [
       "'123'"
      ]
     },
     "execution_count": 7,
     "metadata": {},
     "output_type": "execute_result"
    }
   ],
   "source": [
    "# str to int & int to str\n",
    "st=\"123\" # digits\n",
    "i=int(st) # type: tests the datatype of var\n",
    "print(i,type(i))\n",
    "st"
   ]
  },
  {
   "cell_type": "code",
   "execution_count": 8,
   "metadata": {
    "collapsed": true
   },
   "outputs": [
    {
     "ename": "ValueError",
     "evalue": "invalid literal for int() with base 10: 'Ruthu'",
     "output_type": "error",
     "traceback": [
      "\u001b[1;31m---------------------------------------------------------------------------\u001b[0m",
      "\u001b[1;31mValueError\u001b[0m                                Traceback (most recent call last)",
      "\u001b[1;32m<ipython-input-8-32c3e27eb8ce>\u001b[0m in \u001b[0;36m<module>\u001b[1;34m\u001b[0m\n\u001b[0;32m      1\u001b[0m \u001b[0mname\u001b[0m\u001b[1;33m=\u001b[0m\u001b[1;34m\"Ruthu\"\u001b[0m\u001b[1;33m\u001b[0m\u001b[1;33m\u001b[0m\u001b[0m\n\u001b[1;32m----> 2\u001b[1;33m \u001b[0mprint\u001b[0m\u001b[1;33m(\u001b[0m\u001b[0mint\u001b[0m\u001b[1;33m(\u001b[0m\u001b[0mname\u001b[0m\u001b[1;33m)\u001b[0m\u001b[1;33m)\u001b[0m\u001b[1;33m\u001b[0m\u001b[1;33m\u001b[0m\u001b[0m\n\u001b[0m",
      "\u001b[1;31mValueError\u001b[0m: invalid literal for int() with base 10: 'Ruthu'"
     ]
    }
   ],
   "source": [
    "name=\"Ruthu\"\n",
    "print(int(name))"
   ]
  },
  {
   "cell_type": "code",
   "execution_count": 9,
   "metadata": {},
   "outputs": [
    {
     "name": "stdout",
     "output_type": "stream",
     "text": [
      "907.565\n"
     ]
    }
   ],
   "source": [
    "s=\"907.565\"\n",
    "print(float(s))"
   ]
  },
  {
   "cell_type": "markdown",
   "metadata": {},
   "source": [
    "### Type Conversion/Casting\n",
    "- Converting the variable from one type to another\n",
    "- int to float,float to int\n",
    "- str to float,float to str\n",
    "- str to int,int to str\n",
    "- 2types of conversion:\n",
    "    - **Implicit Conversion**\n",
    "        - conversion by the interpreter itself\n",
    "    - **Explicit Conversion**\n",
    "        - conversion by the programmer"
   ]
  },
  {
   "cell_type": "code",
   "execution_count": 10,
   "metadata": {},
   "outputs": [
    {
     "name": "stdout",
     "output_type": "stream",
     "text": [
      "174.34\n"
     ]
    }
   ],
   "source": [
    "val=84 \n",
    "fl=90.34\n",
    "## add these 2 values\n",
    "print(val+fl) # reusltling float, implicit "
   ]
  },
  {
   "cell_type": "code",
   "execution_count": 12,
   "metadata": {},
   "outputs": [
    {
     "name": "stdout",
     "output_type": "stream",
     "text": [
      "1806\n"
     ]
    }
   ],
   "source": [
    "num=\"904\"\n",
    "s=902\n",
    "# addition\n",
    "int_val=int(num) # explicit conversion\n",
    "print(int_val+s)"
   ]
  },
  {
   "cell_type": "code",
   "execution_count": 18,
   "metadata": {},
   "outputs": [
    {
     "name": "stdout",
     "output_type": "stream",
     "text": [
      "Difference= 8169\n",
      "Difference= marks-si\n"
     ]
    }
   ],
   "source": [
    "marks=9045\n",
    "st=\"876\" # number as string\n",
    "# find the differnce between those 2 variables\n",
    "si=int(st) # integer \n",
    "print(\"Difference=\",marks-si)\n",
    "print(\"Difference=\",\"marks-si\")"
   ]
  },
  {
   "cell_type": "code",
   "execution_count": 16,
   "metadata": {},
   "outputs": [
    {
     "name": "stdout",
     "output_type": "stream",
     "text": [
      "ketry884ty4yu949087ytuewrio009iruiu\n"
     ]
    }
   ],
   "source": [
    "print(\"ketry884ty4yu949087ytuewrio009iruiu\")"
   ]
  },
  {
   "cell_type": "markdown",
   "metadata": {},
   "source": [
    "### Keywords\n",
    "- A keyword is a reserved word which has a special meaning and purpose\n",
    "- that cannot be used as an identifer\n",
    "- which is highlighted in program .\n",
    "- Total **35** keywords in python"
   ]
  },
  {
   "cell_type": "code",
   "execution_count": 19,
   "metadata": {
    "collapsed": true
   },
   "outputs": [
    {
     "name": "stdout",
     "output_type": "stream",
     "text": [
      "['False', 'None', 'True', 'and', 'as', 'assert', 'async', 'await', 'break', 'class', 'continue', 'def', 'del', 'elif', 'else', 'except', 'finally', 'for', 'from', 'global', 'if', 'import', 'in', 'is', 'lambda', 'nonlocal', 'not', 'or', 'pass', 'raise', 'return', 'try', 'while', 'with', 'yield']\n"
     ]
    }
   ],
   "source": [
    "import keyword\n",
    "print(keyword.kwlist)"
   ]
  },
  {
   "cell_type": "markdown",
   "metadata": {},
   "source": [
    "- as:alias\n",
    "- and:logic and operation\n",
    "- breakjumping statement,breaks the flow of execution\n",
    "- class:to define a class\n",
    "- continue:to continue the flow\n",
    "- global:to declar a variable globally\n",
    "- del:deletes the existance of iterable/varible\n",
    "- def:define a function\n",
    "- else:final conditional statement\n",
    "- elif:else if ,incase of if block fails\n",
    "- except:used in exception handling\n",
    "- for:iterating statement\n",
    "- from:from module import sub-module\n",
    "- False:Boolean statement\n",
    "- if:conditional statement\n",
    "* import: to import the module\n",
    "* is : identity operator\n",
    "* in :membership operator\n",
    "* lambda:annymous function\n",
    "* not :not operator\n",
    "* or : logical or operation\n",
    "* True:Boolean operator\n",
    "* return : returns the value\n",
    "* while :iterating statement\n",
    "* with :file handling\n",
    "* yield :returns the multiple value in a function\n",
    "....."
   ]
  },
  {
   "cell_type": "markdown",
   "metadata": {},
   "source": [
    "### Operators in Python\n",
    "- anything that performs the operation between 2 operands\n",
    "- a+b:\n",
    "    - + is the op'r and a,b are the operands\n",
    "- Arithmetic Operators\n",
    "    - +,-,*,/,%,** (power)\n",
    "- Assignment Operators\n",
    "    - x=10\n",
    "    - =,+=,-=,*=,/=,!=\n",
    "- Boolean Operators\n",
    "    - True/False or 0/1\n",
    "- Comparisional/Relational Operators\n",
    "    - <,<=,>,>=,==\n",
    "- Membership Operators\n",
    "    - in & not in\n",
    "- Identity Operators\n",
    "    - is & is not\n",
    "- Operators used in print()\n",
    "    - sep & end"
   ]
  },
  {
   "cell_type": "code",
   "execution_count": 21,
   "metadata": {},
   "outputs": [
    {
     "name": "stdout",
     "output_type": "stream",
     "text": [
      "False\n"
     ]
    }
   ],
   "source": [
    "var,var1,var2=9,15,20 # var=9,var1=15,var2=20\n",
    "print(var is var1) # 9 is 15"
   ]
  },
  {
   "cell_type": "code",
   "execution_count": 22,
   "metadata": {},
   "outputs": [
    {
     "data": {
      "text/plain": [
       "True"
      ]
     },
     "execution_count": 22,
     "metadata": {},
     "output_type": "execute_result"
    }
   ],
   "source": [
    "var1 is not var2 # True/False"
   ]
  },
  {
   "cell_type": "code",
   "execution_count": 26,
   "metadata": {},
   "outputs": [
    {
     "data": {
      "text/plain": [
       "False"
      ]
     },
     "execution_count": 26,
     "metadata": {},
     "output_type": "execute_result"
    }
   ],
   "source": [
    "\"2\" not in \"3420\"  # collection of character"
   ]
  },
  {
   "cell_type": "code",
   "execution_count": 27,
   "metadata": {},
   "outputs": [
    {
     "data": {
      "text/plain": [
       "True"
      ]
     },
     "execution_count": 27,
     "metadata": {},
     "output_type": "execute_result"
    }
   ],
   "source": [
    "5<10"
   ]
  },
  {
   "cell_type": "code",
   "execution_count": 28,
   "metadata": {},
   "outputs": [
    {
     "data": {
      "text/plain": [
       "True"
      ]
     },
     "execution_count": 28,
     "metadata": {},
     "output_type": "execute_result"
    }
   ],
   "source": [
    "10<=10"
   ]
  },
  {
   "cell_type": "code",
   "execution_count": 29,
   "metadata": {},
   "outputs": [
    {
     "data": {
      "text/plain": [
       "False"
      ]
     },
     "execution_count": 29,
     "metadata": {},
     "output_type": "execute_result"
    }
   ],
   "source": [
    "9>18"
   ]
  },
  {
   "cell_type": "code",
   "execution_count": 32,
   "metadata": {},
   "outputs": [],
   "source": [
    "var=18 # False"
   ]
  },
  {
   "cell_type": "code",
   "execution_count": 33,
   "metadata": {},
   "outputs": [
    {
     "data": {
      "text/plain": [
       "18"
      ]
     },
     "execution_count": 33,
     "metadata": {},
     "output_type": "execute_result"
    }
   ],
   "source": [
    "var"
   ]
  },
  {
   "cell_type": "code",
   "execution_count": 34,
   "metadata": {},
   "outputs": [
    {
     "data": {
      "text/plain": [
       "False"
      ]
     },
     "execution_count": 34,
     "metadata": {},
     "output_type": "execute_result"
    }
   ],
   "source": [
    "var is 9"
   ]
  },
  {
   "cell_type": "markdown",
   "metadata": {},
   "source": [
    "### Dynamic reading of inputs\n",
    "- x=10:constant value which is fixed\n",
    "- you can pass any value to the single variable\n",
    "- input()\n",
    "    - pre-defined function used to read input from user\n",
    "    - generally it reads str type data from user\n",
    "- int data type\n",
    "    - int(input())\n",
    "- float data type\n",
    "    - float(input())"
   ]
  },
  {
   "cell_type": "code",
   "execution_count": 41,
   "metadata": {},
   "outputs": [
    {
     "name": "stdout",
     "output_type": "stream",
     "text": [
      "Enter the college name:IIIT-NUZVID\n",
      "IIIT-NUZVID\n"
     ]
    }
   ],
   "source": [
    "# read your college name from user and print it \n",
    "clg=input(\"Enter the college name:\")  # reading\n",
    "print(clg) # printing"
   ]
  },
  {
   "cell_type": "code",
   "execution_count": 40,
   "metadata": {},
   "outputs": [
    {
     "name": "stdout",
     "output_type": "stream",
     "text": [
      "SRIT-Anantapur\n"
     ]
    }
   ],
   "source": [
    "clg=\"SRIT-Anantapur\"\n",
    "print(clg)"
   ]
  },
  {
   "cell_type": "code",
   "execution_count": 43,
   "metadata": {},
   "outputs": [
    {
     "name": "stdout",
     "output_type": "stream",
     "text": [
      "First value:9\n",
      "Second value:5\n",
      "sum= 14\n",
      "Difference= 4\n",
      "Product= 45\n",
      "Divisor= 1.8\n",
      "Divisor= 1\n",
      "Remainder= 4\n",
      "Exponent= 59049\n"
     ]
    }
   ],
   "source": [
    "# write a program to read 2 numbers dynamically and perform all the arithmetic operations\n",
    "f=int(input(\"First value:\"))\n",
    "s=int(input(\"Second value:\"))\n",
    "print(\"sum=\",f+s)\n",
    "print(\"Difference=\",f-s)\n",
    "print(\"Product=\",f*s)\n",
    "print(\"Divisor=\",f/s)\n",
    "print(\"Divisor=\",f//s)\n",
    "print(\"Remainder=\",f%s)\n",
    "print(\"Exponent=\",f**s)"
   ]
  },
  {
   "cell_type": "code",
   "execution_count": null,
   "metadata": {},
   "outputs": [],
   "source": []
  }
 ],
 "metadata": {
  "kernelspec": {
   "display_name": "Python 3",
   "language": "python",
   "name": "python3"
  },
  "language_info": {
   "codemirror_mode": {
    "name": "ipython",
    "version": 3
   },
   "file_extension": ".py",
   "mimetype": "text/x-python",
   "name": "python",
   "nbconvert_exporter": "python",
   "pygments_lexer": "ipython3",
   "version": "3.7.4"
  }
 },
 "nbformat": 4,
 "nbformat_minor": 2
}
