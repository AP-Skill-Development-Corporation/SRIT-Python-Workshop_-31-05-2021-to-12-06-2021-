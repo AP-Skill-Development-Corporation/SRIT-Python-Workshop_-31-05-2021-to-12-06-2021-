{
 "cells": [
  {
   "cell_type": "code",
   "execution_count": 10,
   "metadata": {},
   "outputs": [
    {
     "name": "stdout",
     "output_type": "stream",
     "text": [
      "50\n",
      "24 48 "
     ]
    }
   ],
   "source": [
    "#task1:\n",
    "# check the given number is divisible by 6 and 8 but not with 5 (1 to 100)\n",
    "def div(n):\n",
    "    for i in range(1,n+1):\n",
    "        if (i%6==0 and i%8==0) and i%5!=0:\n",
    "            print(i,end=\" \")\n",
    "n=int(input())\n",
    "div(n)"
   ]
  },
  {
   "cell_type": "code",
   "execution_count": 9,
   "metadata": {},
   "outputs": [
    {
     "data": {
      "text/plain": [
       "True"
      ]
     },
     "execution_count": 9,
     "metadata": {},
     "output_type": "execute_result"
    }
   ],
   "source": [
    "(48%6==0 and 48%8==0) and 48%5!=0"
   ]
  },
  {
   "cell_type": "code",
   "execution_count": 11,
   "metadata": {},
   "outputs": [
    {
     "name": "stdout",
     "output_type": "stream",
     "text": [
      "7\n",
      "sum  1\n",
      "7  is not a perfect number\n"
     ]
    }
   ],
   "source": [
    "#task2:\n",
    "# given number is a perfect number or not\n",
    "#sum of factors=given number\n",
    "def perfect(x):\n",
    "    s=0\n",
    "    for i in range(1,x):\n",
    "        if x%i==0:\n",
    "            s=s+i\n",
    "    print(\"sum \",s)\n",
    "    if s==x:\n",
    "        print(x,\" is a perfect number\")\n",
    "    else:\n",
    "        print(x,\" is not a perfect number\")\n",
    "x=int(input())\n",
    "perfect(x)"
   ]
  },
  {
   "cell_type": "code",
   "execution_count": 18,
   "metadata": {
    "scrolled": true
   },
   "outputs": [
    {
     "name": "stdout",
     "output_type": "stream",
     "text": [
      "abad\n",
      "8\n"
     ]
    }
   ],
   "source": [
    "#task3:\n",
    "#- print charsum --->string input = abad =1+2+1+4=8\n",
    "def charsum(s):\n",
    "    sum=0\n",
    "    for i in s:#a,b,a,d\n",
    "        sum=sum+ord(i)-96\n",
    "    print (sum)\n",
    "n=input()\n",
    "charsum(n)"
   ]
  },
  {
   "cell_type": "code",
   "execution_count": 15,
   "metadata": {},
   "outputs": [
    {
     "data": {
      "text/plain": [
       "4"
      ]
     },
     "execution_count": 15,
     "metadata": {},
     "output_type": "execute_result"
    }
   ],
   "source": [
    "ord('d')-96\n",
    "#sum=0+1=1\n",
    "#sum=1+2=3\n",
    "#sum=3+1=4\n",
    "#sum=4+4=8"
   ]
  },
  {
   "cell_type": "code",
   "execution_count": 20,
   "metadata": {},
   "outputs": [
    {
     "name": "stdout",
     "output_type": "stream",
     "text": [
      "malayalam\n",
      "palindrome\n"
     ]
    }
   ],
   "source": [
    "#- check string is a palindrome or not using function and dynamic input  (ex:malayalam,mam,dad......)\n",
    "def palindrome(s):\n",
    "    if s==s[::-1]:\n",
    "        print(\"palindrome\")\n",
    "    else:\n",
    "        print(\"not a palindrome\")\n",
    "s=input()\n",
    "palindrome(s)"
   ]
  },
  {
   "cell_type": "code",
   "execution_count": null,
   "metadata": {},
   "outputs": [],
   "source": []
  },
  {
   "cell_type": "code",
   "execution_count": 21,
   "metadata": {},
   "outputs": [
    {
     "name": "stdout",
     "output_type": "stream",
     "text": [
      "['__add__', '__class__', '__contains__', '__delattr__', '__dir__', '__doc__', '__eq__', '__format__', '__ge__', '__getattribute__', '__getitem__', '__getnewargs__', '__gt__', '__hash__', '__init__', '__init_subclass__', '__iter__', '__le__', '__len__', '__lt__', '__mod__', '__mul__', '__ne__', '__new__', '__reduce__', '__reduce_ex__', '__repr__', '__rmod__', '__rmul__', '__setattr__', '__sizeof__', '__str__', '__subclasshook__', 'capitalize', 'casefold', 'center', 'count', 'encode', 'endswith', 'expandtabs', 'find', 'format', 'format_map', 'index', 'isalnum', 'isalpha', 'isascii', 'isdecimal', 'isdigit', 'isidentifier', 'islower', 'isnumeric', 'isprintable', 'isspace', 'istitle', 'isupper', 'join', 'ljust', 'lower', 'lstrip', 'maketrans', 'partition', 'replace', 'rfind', 'rindex', 'rjust', 'rpartition', 'rsplit', 'rstrip', 'split', 'splitlines', 'startswith', 'strip', 'swapcase', 'title', 'translate', 'upper', 'zfill']\n"
     ]
    }
   ],
   "source": [
    "#string methods(continution.....)\n",
    "print(dir(str))"
   ]
  },
  {
   "cell_type": "code",
   "execution_count": 28,
   "metadata": {},
   "outputs": [
    {
     "name": "stdout",
     "output_type": "stream",
     "text": [
      "4\n",
      "13\n",
      "-1\n",
      "0\n",
      "14\n"
     ]
    },
    {
     "ename": "ValueError",
     "evalue": "substring not found",
     "output_type": "error",
     "traceback": [
      "\u001b[1;31m---------------------------------------------------------------------------\u001b[0m",
      "\u001b[1;31mValueError\u001b[0m                                Traceback (most recent call last)",
      "\u001b[1;32m<ipython-input-28-8921cecd3abc>\u001b[0m in \u001b[0;36m<module>\u001b[1;34m\u001b[0m\n\u001b[0;32m      5\u001b[0m \u001b[0mprint\u001b[0m\u001b[1;33m(\u001b[0m\u001b[0ma\u001b[0m\u001b[1;33m.\u001b[0m\u001b[0mindex\u001b[0m\u001b[1;33m(\u001b[0m\u001b[1;34m'p'\u001b[0m\u001b[1;33m)\u001b[0m\u001b[1;33m)\u001b[0m\u001b[1;33m\u001b[0m\u001b[1;33m\u001b[0m\u001b[0m\n\u001b[0;32m      6\u001b[0m \u001b[0mprint\u001b[0m\u001b[1;33m(\u001b[0m\u001b[0ma\u001b[0m\u001b[1;33m.\u001b[0m\u001b[0mrindex\u001b[0m\u001b[1;33m(\u001b[0m\u001b[1;34m'p'\u001b[0m\u001b[1;33m)\u001b[0m\u001b[1;33m)\u001b[0m\u001b[1;33m\u001b[0m\u001b[1;33m\u001b[0m\u001b[0m\n\u001b[1;32m----> 7\u001b[1;33m \u001b[0mprint\u001b[0m\u001b[1;33m(\u001b[0m\u001b[0ma\u001b[0m\u001b[1;33m.\u001b[0m\u001b[0mindex\u001b[0m\u001b[1;33m(\u001b[0m\u001b[1;34m'z'\u001b[0m\u001b[1;33m)\u001b[0m\u001b[1;33m)\u001b[0m \u001b[1;31m#Error:substring not found\u001b[0m\u001b[1;33m\u001b[0m\u001b[1;33m\u001b[0m\u001b[0m\n\u001b[0m",
      "\u001b[1;31mValueError\u001b[0m: substring not found"
     ]
    }
   ],
   "source": [
    "a=\"python workshop\"\n",
    "print(a.find(\"o\"))\n",
    "print(a.rfind('o'))\n",
    "print(a.find('z')) #-1\n",
    "print(a.index('p'))\n",
    "print(a.rindex('p'))\n",
    "print(a.index('z')) #Error:substring not found"
   ]
  },
  {
   "cell_type": "code",
   "execution_count": 29,
   "metadata": {},
   "outputs": [
    {
     "name": "stdout",
     "output_type": "stream",
     "text": [
      "PYTHON\n"
     ]
    }
   ],
   "source": [
    "s=\"python\"\n",
    "print(s.upper())"
   ]
  },
  {
   "cell_type": "code",
   "execution_count": 30,
   "metadata": {},
   "outputs": [
    {
     "data": {
      "text/plain": [
       "'PYTHON workshop'"
      ]
     },
     "execution_count": 30,
     "metadata": {},
     "output_type": "execute_result"
    }
   ],
   "source": [
    "s=\"python WORKSHOP\"\n",
    "s.swapcase()"
   ]
  },
  {
   "cell_type": "code",
   "execution_count": 38,
   "metadata": {},
   "outputs": [
    {
     "name": "stdout",
     "output_type": "stream",
     "text": [
      "True\n",
      "False\n",
      "False\n",
      "False\n",
      "False\n",
      "True\n",
      "True\n",
      "True\n",
      "True\n"
     ]
    }
   ],
   "source": [
    "s=\"work\"\n",
    "s1=\"work123345\"\n",
    "s2=\"1234567\"\n",
    "print(s.isalpha())\n",
    "print(s1.isalpha())\n",
    "print(s2.isalpha())\n",
    "print(s.isdigit())\n",
    "print(s1.isdigit())\n",
    "print(s2.isdigit())\n",
    "print(s.isalnum())\n",
    "print(s1.isalnum())\n",
    "print(s2.isalnum())"
   ]
  },
  {
   "cell_type": "code",
   "execution_count": 42,
   "metadata": {},
   "outputs": [
    {
     "name": "stdout",
     "output_type": "stream",
     "text": [
      "True\n",
      "False\n",
      "True\n"
     ]
    }
   ],
   "source": [
    "s=\"EIOYFGCHJH\"\n",
    "s1=\" \"\n",
    "print(s.isupper())\n",
    "print(s.islower())\n",
    "print(s1.isspace())"
   ]
  },
  {
   "cell_type": "code",
   "execution_count": 45,
   "metadata": {},
   "outputs": [
    {
     "name": "stdout",
     "output_type": "stream",
     "text": [
      "work\n",
      "work         \n",
      "        work\n"
     ]
    }
   ],
   "source": [
    "z=\"        work         \"\n",
    "print(z.strip())\n",
    "print(z.lstrip())\n",
    "print(z.rstrip())"
   ]
  },
  {
   "cell_type": "code",
   "execution_count": 49,
   "metadata": {},
   "outputs": [
    {
     "name": "stdout",
     "output_type": "stream",
     "text": [
      "['python,work@shop,hello,evr@yone']\n",
      "['python,work', 'shop,hello,evr', 'yone']\n",
      "['python', 'work@shop', 'hello', 'evr@yone']\n"
     ]
    }
   ],
   "source": [
    "d=\"python,work@shop,hello,evr@yone\"\n",
    "print(d.split()) #based on space it splits that elements\n",
    "print(d.split('@')) #based on @\n",
    "print(d.split(',')) #based on ','"
   ]
  },
  {
   "cell_type": "code",
   "execution_count": 52,
   "metadata": {},
   "outputs": [
    {
     "name": "stdout",
     "output_type": "stream",
     "text": [
      "('i could eat ', 'apples', ' all day,apples are my favorite')\n",
      "('i could eat apples all day,', 'apples', ' are my favorite')\n"
     ]
    }
   ],
   "source": [
    "txt=\"i could eat apples all day,apples are my favorite\"\n",
    "x=txt.partition('apples')\n",
    "print(x)\n",
    "x1=txt.rpartition('apples')\n",
    "print(x1)"
   ]
  },
  {
   "cell_type": "code",
   "execution_count": 55,
   "metadata": {},
   "outputs": [
    {
     "name": "stdout",
     "output_type": "stream",
     "text": [
      "tork\n",
      "zrk\n"
     ]
    }
   ],
   "source": [
    "d=\"work\"\n",
    "print(d.replace('w','t'))\n",
    "print(d.replace('wo','z'))"
   ]
  },
  {
   "cell_type": "code",
   "execution_count": 56,
   "metadata": {},
   "outputs": [
    {
     "name": "stdout",
     "output_type": "stream",
     "text": [
      "python online\n",
      "training\n",
      "['python online', 'training']\n"
     ]
    }
   ],
   "source": [
    "s=\"python online\\ntraining\"\n",
    "print(s)\n",
    "print(s.splitlines()) #splits based on line"
   ]
  },
  {
   "cell_type": "code",
   "execution_count": 60,
   "metadata": {},
   "outputs": [
    {
     "name": "stdout",
     "output_type": "stream",
     "text": [
      "apssdc\n",
      "a p s s d c\n",
      "a@p@s@s@d@c\n",
      "a&p&s&s&d&c\n"
     ]
    }
   ],
   "source": [
    "g=\"a\",\"p\",\"s\",\"s\",\"d\",\"c\"\n",
    "print(\"\".join(g))\n",
    "print(\" \".join(g))\n",
    "print(\"@\".join(g))\n",
    "print(\"&\".join(g))"
   ]
  },
  {
   "cell_type": "code",
   "execution_count": 62,
   "metadata": {},
   "outputs": [
    {
     "name": "stdout",
     "output_type": "stream",
     "text": [
      "my name is pavani\n"
     ]
    }
   ],
   "source": [
    "s=\"my name is {name}\".format(name='pavani')\n",
    "print(s)"
   ]
  },
  {
   "cell_type": "code",
   "execution_count": 64,
   "metadata": {},
   "outputs": [
    {
     "name": "stdout",
     "output_type": "stream",
     "text": [
      "00000000000000pavani\n"
     ]
    }
   ],
   "source": [
    "txt=\"pavani\"\n",
    "x=txt.zfill(20)\n",
    "print(x)"
   ]
  },
  {
   "cell_type": "code",
   "execution_count": 66,
   "metadata": {},
   "outputs": [
    {
     "ename": "TypeError",
     "evalue": "'str' object does not support item assignment",
     "output_type": "error",
     "traceback": [
      "\u001b[1;31m---------------------------------------------------------------------------\u001b[0m",
      "\u001b[1;31mTypeError\u001b[0m                                 Traceback (most recent call last)",
      "\u001b[1;32m<ipython-input-66-cd72172a96d5>\u001b[0m in \u001b[0;36m<module>\u001b[1;34m\u001b[0m\n\u001b[0;32m      1\u001b[0m \u001b[0ms\u001b[0m\u001b[1;33m=\u001b[0m\u001b[1;34m\"python\"\u001b[0m\u001b[1;33m\u001b[0m\u001b[1;33m\u001b[0m\u001b[0m\n\u001b[1;32m----> 2\u001b[1;33m \u001b[0ms\u001b[0m\u001b[1;33m[\u001b[0m\u001b[1;36m2\u001b[0m\u001b[1;33m]\u001b[0m\u001b[1;33m=\u001b[0m\u001b[1;34m'u'\u001b[0m\u001b[1;33m\u001b[0m\u001b[1;33m\u001b[0m\u001b[0m\n\u001b[0m\u001b[0;32m      3\u001b[0m \u001b[0mprint\u001b[0m\u001b[1;33m(\u001b[0m\u001b[0ms\u001b[0m\u001b[1;33m)\u001b[0m\u001b[1;33m\u001b[0m\u001b[1;33m\u001b[0m\u001b[0m\n",
      "\u001b[1;31mTypeError\u001b[0m: 'str' object does not support item assignment"
     ]
    }
   ],
   "source": [
    "s=\"python\"\n",
    "s[2]='u' #it is immutable\n",
    "print(s)"
   ]
  },
  {
   "cell_type": "code",
   "execution_count": null,
   "metadata": {},
   "outputs": [],
   "source": [
    "#tasks:\n",
    "1) #input: A P S S D C         #output: Apssdc\n",
    "2) #input: besta pavithra      #output: B. Pavithra\n",
    "3) #input: Apssdc Pavani python ruthu        #output:(AEIOU not ends with vowels)--->Apssdc,python\n",
    "4) #input : python123$67   Output: alphabetscount:6,digitscount:5 ,specialcharacterscount:1\n",
    "5) #input :python   output: pthn  (even ascii charcters)"
   ]
  },
  {
   "cell_type": "code",
   "execution_count": 65,
   "metadata": {},
   "outputs": [
    {
     "name": "stdout",
     "output_type": "stream",
     "text": [
      "112\n",
      "121\n",
      "116\n",
      "104\n",
      "111\n",
      "110\n"
     ]
    }
   ],
   "source": [
    "print(ord('p'))\n",
    "print(ord('y'))\n",
    "print(ord('t'))\n",
    "print(ord('h'))\n",
    "print(ord('o'))\n",
    "print(ord('n'))\n",
    "#even--->p,t,h,n"
   ]
  },
  {
   "cell_type": "code",
   "execution_count": 67,
   "metadata": {},
   "outputs": [
    {
     "name": "stdout",
     "output_type": "stream",
     "text": [
      "\n",
      "<class 'str'>\n"
     ]
    }
   ],
   "source": [
    "#empty string\n",
    "s=\"\"\n",
    "print(s)\n",
    "print(type(s))"
   ]
  },
  {
   "cell_type": "code",
   "execution_count": null,
   "metadata": {},
   "outputs": [],
   "source": []
  },
  {
   "cell_type": "code",
   "execution_count": null,
   "metadata": {},
   "outputs": [],
   "source": [
    "# Datastructures:\n",
    "- dataastructures are a way of organizing and storing data\n",
    "- so that they can be accessed and worked 4with efficiently\n",
    "#4 types of datastructures in python:\n",
    "1)list\n",
    "2)tuple\n",
    "3)dictionaries\n",
    "4)sets"
   ]
  },
  {
   "cell_type": "code",
   "execution_count": null,
   "metadata": {},
   "outputs": [],
   "source": [
    "#list:\n",
    "- it holds an ordered collection of data and changable\n",
    "- list is mutable and it allows duplicates also\n",
    "- list is defined using []\n",
    "- list supports all datatypes"
   ]
  },
  {
   "cell_type": "code",
   "execution_count": 68,
   "metadata": {},
   "outputs": [
    {
     "name": "stdout",
     "output_type": "stream",
     "text": [
      "[]\n",
      "<class 'list'>\n"
     ]
    }
   ],
   "source": [
    "#empty list\n",
    "li=[]\n",
    "print(li)\n",
    "print(type(li))"
   ]
  },
  {
   "cell_type": "code",
   "execution_count": 69,
   "metadata": {},
   "outputs": [
    {
     "name": "stdout",
     "output_type": "stream",
     "text": [
      "[12, 13, 1, 4, 90, 56, 12, 13, 15]\n",
      "<class 'list'>\n"
     ]
    }
   ],
   "source": [
    "li=[12,13,1,4,90,56,12,13,15]\n",
    "print(li)  #it supports duplicates also and unordered\n",
    "print(type(li))"
   ]
  },
  {
   "cell_type": "code",
   "execution_count": 70,
   "metadata": {},
   "outputs": [
    {
     "name": "stdout",
     "output_type": "stream",
     "text": [
      "[12, 35.78, 'python']\n",
      "<class 'list'>\n"
     ]
    }
   ],
   "source": [
    "li=[12,35.78,'python']\n",
    "print(li)  #supports all datatypes\n",
    "print(type(li))"
   ]
  },
  {
   "cell_type": "code",
   "execution_count": 82,
   "metadata": {},
   "outputs": [
    {
     "name": "stdout",
     "output_type": "stream",
     "text": [
      "12\n",
      "35.78\n",
      "python\n",
      "90\n",
      "34\n",
      "[35.78, 'python', 12, 34, 56]\n",
      "[35.78, 'python', 12, 34, 56]\n",
      "[12, 'python', 34, 78, 9]\n",
      "[9, 90, 78, 56, 34, 12, 'python', 35.78, 12]\n",
      "[35.78, 34, 90]\n"
     ]
    }
   ],
   "source": [
    "li=[12,35.78,'python',12,34,56,78,90,9]\n",
    "print(li[0])   #it supports positive index,negtive index,slicing\n",
    "print(li[1])\n",
    "print(li[2])\n",
    "print(li[-2])\n",
    "print(li[-5])\n",
    "print(li[1:6])\n",
    "print(li[-8:-3])\n",
    "print(li[::2])\n",
    "print(li[::-1])\n",
    "print(li[1:8:3])"
   ]
  },
  {
   "cell_type": "code",
   "execution_count": 83,
   "metadata": {},
   "outputs": [
    {
     "name": "stdout",
     "output_type": "stream",
     "text": [
      "[12, 34, 67, 89, 77, 89, 90]\n"
     ]
    }
   ],
   "source": [
    "l=[12,34,67,89,'python',89,90]\n",
    "l[4]=77  #list is mutable\n",
    "print(l) "
   ]
  },
  {
   "cell_type": "code",
   "execution_count": 84,
   "metadata": {},
   "outputs": [
    {
     "name": "stdout",
     "output_type": "stream",
     "text": [
      "[12, 34, 56, 78, 90, 34, 67, 89, 90, 'python']\n"
     ]
    }
   ],
   "source": [
    "l1=[12,34,56,78,90]\n",
    "l2=[34,67,89,90,'python']  #concatnation\n",
    "print(l1+l2)"
   ]
  },
  {
   "cell_type": "code",
   "execution_count": 91,
   "metadata": {},
   "outputs": [
    {
     "name": "stdout",
     "output_type": "stream",
     "text": [
      "[12, 34, 56, 78, [34, 67, 89, 90, 77], 90]\n",
      "56\n",
      "90\n",
      "[34, 67, 89, 90, 77]\n",
      "67\n"
     ]
    }
   ],
   "source": [
    "#nested list\n",
    "l1=[12,34,56,78,[34,67,89,90,77],90]\n",
    "print(l1)\n",
    "print(l1[2])\n",
    "print(l1[5])\n",
    "print(l1[4])\n",
    "print(l1[4][1])"
   ]
  },
  {
   "cell_type": "code",
   "execution_count": 94,
   "metadata": {},
   "outputs": [
    {
     "name": "stdout",
     "output_type": "stream",
     "text": [
      "<class 'list'>\n",
      "5\n",
      "12\n",
      "15\n",
      "[12, 12, 13, 14, 15]\n",
      "66\n"
     ]
    }
   ],
   "source": [
    "#builtin functions\n",
    "li=[12,13,12,14,15]\n",
    "print(type(li))\n",
    "print(len(li))\n",
    "print(min(li))\n",
    "print(max(li))\n",
    "print(sorted(li))\n",
    "print(sum(li))"
   ]
  },
  {
   "cell_type": "code",
   "execution_count": 95,
   "metadata": {},
   "outputs": [
    {
     "name": "stdout",
     "output_type": "stream",
     "text": [
      "<class 'list'>\n",
      "6\n",
      "a\n",
      "s\n",
      "['a', 'c', 'd', 'p', 's', 's']\n"
     ]
    },
    {
     "ename": "TypeError",
     "evalue": "unsupported operand type(s) for +: 'int' and 'str'",
     "output_type": "error",
     "traceback": [
      "\u001b[1;31m---------------------------------------------------------------------------\u001b[0m",
      "\u001b[1;31mTypeError\u001b[0m                                 Traceback (most recent call last)",
      "\u001b[1;32m<ipython-input-95-3be651da0bb8>\u001b[0m in \u001b[0;36m<module>\u001b[1;34m\u001b[0m\n\u001b[0;32m      5\u001b[0m \u001b[0mprint\u001b[0m\u001b[1;33m(\u001b[0m\u001b[0mmax\u001b[0m\u001b[1;33m(\u001b[0m\u001b[0mli\u001b[0m\u001b[1;33m)\u001b[0m\u001b[1;33m)\u001b[0m\u001b[1;33m\u001b[0m\u001b[1;33m\u001b[0m\u001b[0m\n\u001b[0;32m      6\u001b[0m \u001b[0mprint\u001b[0m\u001b[1;33m(\u001b[0m\u001b[0msorted\u001b[0m\u001b[1;33m(\u001b[0m\u001b[0mli\u001b[0m\u001b[1;33m)\u001b[0m\u001b[1;33m)\u001b[0m\u001b[1;33m\u001b[0m\u001b[1;33m\u001b[0m\u001b[0m\n\u001b[1;32m----> 7\u001b[1;33m \u001b[0mprint\u001b[0m\u001b[1;33m(\u001b[0m\u001b[0msum\u001b[0m\u001b[1;33m(\u001b[0m\u001b[0mli\u001b[0m\u001b[1;33m)\u001b[0m\u001b[1;33m)\u001b[0m\u001b[1;33m\u001b[0m\u001b[1;33m\u001b[0m\u001b[0m\n\u001b[0m",
      "\u001b[1;31mTypeError\u001b[0m: unsupported operand type(s) for +: 'int' and 'str'"
     ]
    }
   ],
   "source": [
    "li=['a','p','s','s','d','c']\n",
    "print(type(li))\n",
    "print(len(li))\n",
    "print(min(li))\n",
    "print(max(li))\n",
    "print(sorted(li))\n",
    "print(sum(li))"
   ]
  },
  {
   "cell_type": "code",
   "execution_count": 101,
   "metadata": {},
   "outputs": [
    {
     "name": "stdout",
     "output_type": "stream",
     "text": [
      "True\n",
      "True\n",
      "False\n",
      "True\n"
     ]
    },
    {
     "ename": "NameError",
     "evalue": "name 'rollno' is not defined",
     "output_type": "error",
     "traceback": [
      "\u001b[1;31m---------------------------------------------------------------------------\u001b[0m",
      "\u001b[1;31mNameError\u001b[0m                                 Traceback (most recent call last)",
      "\u001b[1;32m<ipython-input-101-8ec6205f462c>\u001b[0m in \u001b[0;36m<module>\u001b[1;34m\u001b[0m\n\u001b[0;32m      7\u001b[0m \u001b[0mprint\u001b[0m\u001b[1;33m(\u001b[0m\u001b[0many\u001b[0m\u001b[1;33m(\u001b[0m\u001b[0mnumber\u001b[0m\u001b[1;33m)\u001b[0m\u001b[1;33m)\u001b[0m  \u001b[1;31m#any checks for the element\u001b[0m\u001b[1;33m\u001b[0m\u001b[1;33m\u001b[0m\u001b[0m\n\u001b[0;32m      8\u001b[0m \u001b[0mprint\u001b[0m\u001b[1;33m(\u001b[0m\u001b[0many\u001b[0m\u001b[1;33m(\u001b[0m\u001b[0mname\u001b[0m\u001b[1;33m)\u001b[0m\u001b[1;33m)\u001b[0m\u001b[1;33m\u001b[0m\u001b[1;33m\u001b[0m\u001b[0m\n\u001b[1;32m----> 9\u001b[1;33m \u001b[0many\u001b[0m\u001b[1;33m(\u001b[0m\u001b[0mrollno\u001b[0m\u001b[1;33m)\u001b[0m\u001b[1;33m\u001b[0m\u001b[1;33m\u001b[0m\u001b[0m\n\u001b[0m",
      "\u001b[1;31mNameError\u001b[0m: name 'rollno' is not defined"
     ]
    }
   ],
   "source": [
    "#all,any\n",
    "number=[]\n",
    "name=['pavani','ruthu']\n",
    "print(all(number))  #all checks for the list\n",
    "print(all(name))\n",
    "#all(python)\n",
    "print(any(number))  #any checks for the element\n",
    "print(any(name))\n",
    "#any(rollno)"
   ]
  },
  {
   "cell_type": "code",
   "execution_count": 102,
   "metadata": {},
   "outputs": [
    {
     "name": "stdout",
     "output_type": "stream",
     "text": [
      "['__add__', '__class__', '__contains__', '__delattr__', '__delitem__', '__dir__', '__doc__', '__eq__', '__format__', '__ge__', '__getattribute__', '__getitem__', '__gt__', '__hash__', '__iadd__', '__imul__', '__init__', '__init_subclass__', '__iter__', '__le__', '__len__', '__lt__', '__mul__', '__ne__', '__new__', '__reduce__', '__reduce_ex__', '__repr__', '__reversed__', '__rmul__', '__setattr__', '__setitem__', '__sizeof__', '__str__', '__subclasshook__', 'append', 'clear', 'copy', 'count', 'extend', 'index', 'insert', 'pop', 'remove', 'reverse', 'sort']\n"
     ]
    }
   ],
   "source": [
    "print(dir(list))"
   ]
  },
  {
   "cell_type": "code",
   "execution_count": 103,
   "metadata": {},
   "outputs": [
    {
     "name": "stdout",
     "output_type": "stream",
     "text": [
      "[23, 23, 21, 45, 89, 90, 7, 500]\n"
     ]
    }
   ],
   "source": [
    "li=[23,23,21,45,89,90,7]\n",
    "li.append(500)  #adds the element in last\n",
    "print(li)"
   ]
  },
  {
   "cell_type": "code",
   "execution_count": 105,
   "metadata": {},
   "outputs": [
    {
     "name": "stdout",
     "output_type": "stream",
     "text": [
      "[23, 23, 500, 21, 45, 89, 90, 7]\n"
     ]
    }
   ],
   "source": [
    "li=[23,23,21,45,89,90,7]\n",
    "li.insert(2,500) #insert() takes exactly 2 arguments\n",
    "print(li)"
   ]
  },
  {
   "cell_type": "code",
   "execution_count": 107,
   "metadata": {},
   "outputs": [
    {
     "name": "stdout",
     "output_type": "stream",
     "text": [
      "2\n",
      "0\n"
     ]
    },
    {
     "ename": "AttributeError",
     "evalue": "'list' object has no attribute 'rindex'",
     "output_type": "error",
     "traceback": [
      "\u001b[1;31m---------------------------------------------------------------------------\u001b[0m",
      "\u001b[1;31mAttributeError\u001b[0m                            Traceback (most recent call last)",
      "\u001b[1;32m<ipython-input-107-6e7d23f22699>\u001b[0m in \u001b[0;36m<module>\u001b[1;34m\u001b[0m\n\u001b[0;32m      2\u001b[0m \u001b[0mprint\u001b[0m\u001b[1;33m(\u001b[0m\u001b[0mli\u001b[0m\u001b[1;33m.\u001b[0m\u001b[0mcount\u001b[0m\u001b[1;33m(\u001b[0m\u001b[1;36m23\u001b[0m\u001b[1;33m)\u001b[0m\u001b[1;33m)\u001b[0m\u001b[1;33m\u001b[0m\u001b[1;33m\u001b[0m\u001b[0m\n\u001b[0;32m      3\u001b[0m \u001b[0mprint\u001b[0m\u001b[1;33m(\u001b[0m\u001b[0mli\u001b[0m\u001b[1;33m.\u001b[0m\u001b[0mindex\u001b[0m\u001b[1;33m(\u001b[0m\u001b[1;36m23\u001b[0m\u001b[1;33m)\u001b[0m\u001b[1;33m)\u001b[0m\u001b[1;33m\u001b[0m\u001b[1;33m\u001b[0m\u001b[0m\n\u001b[1;32m----> 4\u001b[1;33m \u001b[0mprint\u001b[0m\u001b[1;33m(\u001b[0m\u001b[0mli\u001b[0m\u001b[1;33m.\u001b[0m\u001b[0mrindex\u001b[0m\u001b[1;33m(\u001b[0m\u001b[1;36m23\u001b[0m\u001b[1;33m)\u001b[0m\u001b[1;33m)\u001b[0m\u001b[1;33m\u001b[0m\u001b[1;33m\u001b[0m\u001b[0m\n\u001b[0m",
      "\u001b[1;31mAttributeError\u001b[0m: 'list' object has no attribute 'rindex'"
     ]
    }
   ],
   "source": [
    "li=[23,23,21,45,89,90,7]\n",
    "print(li.count(23))\n",
    "print(li.index(23))\n",
    "print(li.rindex(23))  #'list' object has no attribute 'rindex'"
   ]
  },
  {
   "cell_type": "code",
   "execution_count": 108,
   "metadata": {},
   "outputs": [
    {
     "name": "stdout",
     "output_type": "stream",
     "text": [
      "[23, 23, 21, 89, 90, 7]\n"
     ]
    }
   ],
   "source": [
    "li=[23,23,21,45,89,90,7]\n",
    "li.remove(45)   #based on value\n",
    "print(li)"
   ]
  },
  {
   "cell_type": "code",
   "execution_count": 110,
   "metadata": {},
   "outputs": [
    {
     "name": "stdout",
     "output_type": "stream",
     "text": [
      "[23, 23, 21, 45, 89, 90]\n",
      "[23, 23, 45, 89, 90]\n"
     ]
    }
   ],
   "source": [
    "li=[23,23,21,45,89,90,7]\n",
    "li.pop()   #removes the last element\n",
    "print(li)\n",
    "li.pop(2) #based on index value\n",
    "print(li)"
   ]
  },
  {
   "cell_type": "code",
   "execution_count": 111,
   "metadata": {},
   "outputs": [
    {
     "name": "stdout",
     "output_type": "stream",
     "text": [
      "[7, 90, 89, 45, 21, 23, 23]\n"
     ]
    }
   ],
   "source": [
    "li=[23,23,21,45,89,90,7]\n",
    "li.reverse()\n",
    "print(li)"
   ]
  },
  {
   "cell_type": "code",
   "execution_count": 115,
   "metadata": {},
   "outputs": [
    {
     "name": "stdout",
     "output_type": "stream",
     "text": [
      "original list: [23, 23, 21, 45, 89, 90, 7]\n",
      "sorted list: [7, 21, 23, 23, 45, 89, 90]\n",
      "reverse sorted list: [90, 89, 45, 23, 23, 21, 7]\n"
     ]
    }
   ],
   "source": [
    "li=[23,23,21,45,89,90,7]\n",
    "print(\"original list:\",li)\n",
    "li.sort()\n",
    "print(\"sorted list:\",li)\n",
    "li.sort(reverse=True)\n",
    "print(\"reverse sorted list:\",li)"
   ]
  },
  {
   "cell_type": "code",
   "execution_count": 116,
   "metadata": {},
   "outputs": [
    {
     "name": "stdout",
     "output_type": "stream",
     "text": [
      "[23, 45, 1, 56, 78, 90]\n",
      "[56, 78, 90]\n"
     ]
    }
   ],
   "source": [
    "l1=[23,45,1]\n",
    "l2=[56,78,90]\n",
    "l1.extend(l2)\n",
    "print(l1)\n",
    "print(l2)"
   ]
  },
  {
   "cell_type": "code",
   "execution_count": 117,
   "metadata": {},
   "outputs": [
    {
     "name": "stdout",
     "output_type": "stream",
     "text": [
      "[23, 45, 1]\n",
      "[56, 78, 90, 23, 45, 1]\n"
     ]
    }
   ],
   "source": [
    "l1=[23,45,1]\n",
    "l2=[56,78,90]\n",
    "l2.extend(l1)\n",
    "print(l1)\n",
    "print(l2)"
   ]
  },
  {
   "cell_type": "code",
   "execution_count": 120,
   "metadata": {},
   "outputs": [
    {
     "name": "stdout",
     "output_type": "stream",
     "text": [
      "[34, 67, 89, 1, 55]\n",
      "[34, 67, 89, 1, 55]\n",
      "[34, 67, 89, 1, 55, 90]\n",
      "[34, 67, 89, 1, 55, 90]\n"
     ]
    }
   ],
   "source": [
    "#assignment:\n",
    "t=[34,67,89,1,55]\n",
    "t1=t\n",
    "print(t)\n",
    "print(t1)\n",
    "t.append(90)   #if u changed t then t1 also changed in assignment\n",
    "print(t)\n",
    "print(t1)"
   ]
  },
  {
   "cell_type": "code",
   "execution_count": 121,
   "metadata": {},
   "outputs": [
    {
     "name": "stdout",
     "output_type": "stream",
     "text": [
      "[34, 67, 89, 1, 55]\n",
      "[34, 67, 89, 1, 55]\n",
      "[34, 67, 89, 1, 55, 90]\n",
      "[34, 67, 89, 1, 55]\n"
     ]
    }
   ],
   "source": [
    "#copy:\n",
    "t=[34,67,89,1,55]\n",
    "t1=t.copy()\n",
    "print(t)\n",
    "print(t1)\n",
    "t.append(90)  #using copy if u changed t then t only changes t1 is not chnaged\n",
    "print(t)\n",
    "print(t1)"
   ]
  },
  {
   "cell_type": "code",
   "execution_count": 122,
   "metadata": {},
   "outputs": [
    {
     "name": "stdout",
     "output_type": "stream",
     "text": [
      "[]\n"
     ]
    }
   ],
   "source": [
    "t=[45,67,89,89,90]\n",
    "t.clear()\n",
    "print(t)"
   ]
  },
  {
   "cell_type": "code",
   "execution_count": 123,
   "metadata": {
    "scrolled": true
   },
   "outputs": [
    {
     "ename": "NameError",
     "evalue": "name 't' is not defined",
     "output_type": "error",
     "traceback": [
      "\u001b[1;31m---------------------------------------------------------------------------\u001b[0m",
      "\u001b[1;31mNameError\u001b[0m                                 Traceback (most recent call last)",
      "\u001b[1;32m<ipython-input-123-5596fa3bac52>\u001b[0m in \u001b[0;36m<module>\u001b[1;34m\u001b[0m\n\u001b[0;32m      1\u001b[0m \u001b[0mt\u001b[0m\u001b[1;33m=\u001b[0m\u001b[1;33m[\u001b[0m\u001b[1;36m45\u001b[0m\u001b[1;33m,\u001b[0m\u001b[1;36m67\u001b[0m\u001b[1;33m,\u001b[0m\u001b[1;36m89\u001b[0m\u001b[1;33m,\u001b[0m\u001b[1;36m89\u001b[0m\u001b[1;33m,\u001b[0m\u001b[1;36m90\u001b[0m\u001b[1;33m]\u001b[0m\u001b[1;33m\u001b[0m\u001b[1;33m\u001b[0m\u001b[0m\n\u001b[0;32m      2\u001b[0m \u001b[1;32mdel\u001b[0m\u001b[1;33m(\u001b[0m\u001b[0mt\u001b[0m\u001b[1;33m)\u001b[0m\u001b[1;33m\u001b[0m\u001b[1;33m\u001b[0m\u001b[0m\n\u001b[1;32m----> 3\u001b[1;33m \u001b[0mprint\u001b[0m\u001b[1;33m(\u001b[0m\u001b[0mt\u001b[0m\u001b[1;33m)\u001b[0m\u001b[1;33m\u001b[0m\u001b[1;33m\u001b[0m\u001b[0m\n\u001b[0m",
      "\u001b[1;31mNameError\u001b[0m: name 't' is not defined"
     ]
    }
   ],
   "source": [
    "t=[45,67,89,89,90]\n",
    "del(t)\n",
    "print(t)"
   ]
  },
  {
   "cell_type": "code",
   "execution_count": 124,
   "metadata": {},
   "outputs": [
    {
     "name": "stdout",
     "output_type": "stream",
     "text": [
      "average: 76.0\n"
     ]
    }
   ],
   "source": [
    "t=[45,67,89,89,90]\n",
    "print(\"average:\",sum(t)/len(t))"
   ]
  },
  {
   "cell_type": "code",
   "execution_count": 126,
   "metadata": {},
   "outputs": [
    {
     "name": "stdout",
     "output_type": "stream",
     "text": [
      "[90, 134, 178, 178, 180]\n"
     ]
    }
   ],
   "source": [
    "t=[45,67,89,89,90]\n",
    "t1=[]\n",
    "for i in t:\n",
    "    t1.append(i*2)\n",
    "print(t1)"
   ]
  },
  {
   "cell_type": "code",
   "execution_count": null,
   "metadata": {},
   "outputs": [],
   "source": [
    "#task 1:\n",
    "I/P: li=[12,12,34,57,78,57]\n",
    "O/P: [34,78]  (unique elements)(count==1)\n",
    "# task 2:\n",
    "I/P: li=[12,12,34,57,78,57]\n",
    "O/P: [12,34,57,78]  (duplicates remove)"
   ]
  },
  {
   "cell_type": "code",
   "execution_count": null,
   "metadata": {},
   "outputs": [],
   "source": []
  },
  {
   "cell_type": "code",
   "execution_count": null,
   "metadata": {},
   "outputs": [],
   "source": [
    "#tuple:\n",
    "- tuple is a collection of ordered and unchangable\n",
    "- allows duplicates\n",
    "- tuple is immutable\n",
    "- tuple is defined using ()"
   ]
  },
  {
   "cell_type": "code",
   "execution_count": 127,
   "metadata": {},
   "outputs": [
    {
     "name": "stdout",
     "output_type": "stream",
     "text": [
      "()\n",
      "<class 'tuple'>\n"
     ]
    }
   ],
   "source": [
    "#empty\n",
    "t=()\n",
    "print(t)\n",
    "print(type(t))"
   ]
  },
  {
   "cell_type": "code",
   "execution_count": 128,
   "metadata": {},
   "outputs": [
    {
     "name": "stdout",
     "output_type": "stream",
     "text": [
      "(24, 67.89, 'python')\n",
      "<class 'tuple'>\n"
     ]
    }
   ],
   "source": [
    "t=(24,67.89,\"python\")\n",
    "print(t)  #supports all datatypes\n",
    "print(type(t))"
   ]
  },
  {
   "cell_type": "code",
   "execution_count": 129,
   "metadata": {},
   "outputs": [
    {
     "name": "stdout",
     "output_type": "stream",
     "text": [
      "(12, 12, 12, 34, 56, 78, 78)\n",
      "<class 'tuple'>\n"
     ]
    }
   ],
   "source": [
    "t=(12,12,12,34,56,78,78)\n",
    "print(t) #tuple supports duplicates\n",
    "print(type(t))"
   ]
  },
  {
   "cell_type": "code",
   "execution_count": 130,
   "metadata": {},
   "outputs": [
    {
     "name": "stdout",
     "output_type": "stream",
     "text": [
      "7\n",
      "78\n",
      "12\n",
      "[12, 12, 12, 34, 56, 78, 78]\n",
      "282\n"
     ]
    }
   ],
   "source": [
    "t=(12,12,12,34,56,78,78)\n",
    "print(len(t))\n",
    "print(max(t))\n",
    "print(min(t))\n",
    "print(sorted(t))\n",
    "print(sum(t))"
   ]
  },
  {
   "cell_type": "code",
   "execution_count": 136,
   "metadata": {},
   "outputs": [
    {
     "name": "stdout",
     "output_type": "stream",
     "text": [
      "(12, 12, 12, 34, 56, 78, 78)\n",
      "34\n",
      "56\n",
      "(12, 34, 56, 78)\n",
      "(12, 34, 56, 78)\n",
      "(12, 12, 56, 78)\n",
      "(78, 78, 56, 34, 12, 12, 12)\n"
     ]
    }
   ],
   "source": [
    "t=(12,12,12,34,56,78,78)\n",
    "print(t)  #tuple supports indexing\n",
    "print(t[3])\n",
    "print(t[-3])\n",
    "print(t[2:6])\n",
    "print(t[-5:-1])\n",
    "print(t[::2])\n",
    "print(t[::-1])"
   ]
  },
  {
   "cell_type": "code",
   "execution_count": 137,
   "metadata": {},
   "outputs": [
    {
     "ename": "TypeError",
     "evalue": "'tuple' object does not support item assignment",
     "output_type": "error",
     "traceback": [
      "\u001b[1;31m---------------------------------------------------------------------------\u001b[0m",
      "\u001b[1;31mTypeError\u001b[0m                                 Traceback (most recent call last)",
      "\u001b[1;32m<ipython-input-137-d1cedb5790b1>\u001b[0m in \u001b[0;36m<module>\u001b[1;34m\u001b[0m\n\u001b[0;32m      1\u001b[0m \u001b[0mt\u001b[0m\u001b[1;33m=\u001b[0m\u001b[1;33m(\u001b[0m\u001b[1;36m12\u001b[0m\u001b[1;33m,\u001b[0m\u001b[1;36m12\u001b[0m\u001b[1;33m,\u001b[0m\u001b[1;36m12\u001b[0m\u001b[1;33m,\u001b[0m\u001b[1;36m34\u001b[0m\u001b[1;33m,\u001b[0m\u001b[1;36m56\u001b[0m\u001b[1;33m,\u001b[0m\u001b[1;36m78\u001b[0m\u001b[1;33m,\u001b[0m\u001b[1;36m78\u001b[0m\u001b[1;33m)\u001b[0m\u001b[1;33m\u001b[0m\u001b[1;33m\u001b[0m\u001b[0m\n\u001b[1;32m----> 2\u001b[1;33m \u001b[0mt\u001b[0m\u001b[1;33m[\u001b[0m\u001b[1;36m3\u001b[0m\u001b[1;33m]\u001b[0m\u001b[1;33m=\u001b[0m\u001b[1;36m90\u001b[0m\u001b[1;33m\u001b[0m\u001b[1;33m\u001b[0m\u001b[0m\n\u001b[0m\u001b[0;32m      3\u001b[0m \u001b[0mprint\u001b[0m\u001b[1;33m(\u001b[0m\u001b[0mt\u001b[0m\u001b[1;33m)\u001b[0m\u001b[1;33m\u001b[0m\u001b[1;33m\u001b[0m\u001b[0m\n",
      "\u001b[1;31mTypeError\u001b[0m: 'tuple' object does not support item assignment"
     ]
    }
   ],
   "source": [
    "t=(12,12,12,34,56,78,78)\n",
    "t[3]=90  #tuple is immutable\n",
    "print(t) #tuple' object does not support item assignment"
   ]
  },
  {
   "cell_type": "code",
   "execution_count": 140,
   "metadata": {},
   "outputs": [
    {
     "name": "stdout",
     "output_type": "stream",
     "text": [
      "(23, 45, 67, (90, 67, 89), 77)\n",
      "(90, 67, 89)\n",
      "89\n"
     ]
    }
   ],
   "source": [
    "t=(23,45,67,(90,67,89),77)\n",
    "print(t)\n",
    "print(t[3])\n",
    "print(t[3][2])"
   ]
  },
  {
   "cell_type": "code",
   "execution_count": 141,
   "metadata": {},
   "outputs": [
    {
     "name": "stdout",
     "output_type": "stream",
     "text": [
      "['__add__', '__class__', '__contains__', '__delattr__', '__dir__', '__doc__', '__eq__', '__format__', '__ge__', '__getattribute__', '__getitem__', '__getnewargs__', '__gt__', '__hash__', '__init__', '__init_subclass__', '__iter__', '__le__', '__len__', '__lt__', '__mul__', '__ne__', '__new__', '__reduce__', '__reduce_ex__', '__repr__', '__rmul__', '__setattr__', '__sizeof__', '__str__', '__subclasshook__', 'count', 'index']\n"
     ]
    }
   ],
   "source": [
    "print(dir(tuple))"
   ]
  },
  {
   "cell_type": "code",
   "execution_count": 142,
   "metadata": {},
   "outputs": [
    {
     "name": "stdout",
     "output_type": "stream",
     "text": [
      "3\n",
      "5\n"
     ]
    }
   ],
   "source": [
    "t=(12,12,12,34,56,78,78)\n",
    "print(t.count(12))\n",
    "print(t.index(78))"
   ]
  },
  {
   "cell_type": "code",
   "execution_count": 144,
   "metadata": {},
   "outputs": [
    {
     "name": "stdout",
     "output_type": "stream",
     "text": [
      "23\n",
      "56.79\n",
      "python\n",
      "(23, 56.79, 'python')\n"
     ]
    }
   ],
   "source": [
    "#tuple packing\n",
    "t=(23,56.79,'python')\n",
    "#tuple unpacking\n",
    "a,b,c=t\n",
    "print(a)\n",
    "print(b)\n",
    "print(c)\n",
    "print(t)"
   ]
  },
  {
   "cell_type": "code",
   "execution_count": 149,
   "metadata": {},
   "outputs": [
    {
     "name": "stdout",
     "output_type": "stream",
     "text": [
      "20 <class 'str'>\n",
      "20.0 <class 'float'>\n"
     ]
    }
   ],
   "source": [
    "a=20\n",
    "b=str(a)\n",
    "print(b,type(b))\n",
    "c=float(a)\n",
    "print(c,type(c))"
   ]
  },
  {
   "cell_type": "code",
   "execution_count": 152,
   "metadata": {},
   "outputs": [
    {
     "ename": "NameError",
     "evalue": "name 't' is not defined",
     "output_type": "error",
     "traceback": [
      "\u001b[1;31m---------------------------------------------------------------------------\u001b[0m",
      "\u001b[1;31mNameError\u001b[0m                                 Traceback (most recent call last)",
      "\u001b[1;32m<ipython-input-152-3df3e5a93d3c>\u001b[0m in \u001b[0;36m<module>\u001b[1;34m\u001b[0m\n\u001b[0;32m      1\u001b[0m \u001b[0mt\u001b[0m\u001b[1;33m=\u001b[0m\u001b[1;33m(\u001b[0m\u001b[1;36m67\u001b[0m\u001b[1;33m,\u001b[0m\u001b[1;36m89\u001b[0m\u001b[1;33m,\u001b[0m\u001b[1;36m45\u001b[0m\u001b[1;33m,\u001b[0m\u001b[1;36m34\u001b[0m\u001b[1;33m)\u001b[0m\u001b[1;33m\u001b[0m\u001b[1;33m\u001b[0m\u001b[0m\n\u001b[0;32m      2\u001b[0m \u001b[1;32mdel\u001b[0m \u001b[0mt\u001b[0m\u001b[1;33m\u001b[0m\u001b[1;33m\u001b[0m\u001b[0m\n\u001b[1;32m----> 3\u001b[1;33m \u001b[0mprint\u001b[0m\u001b[1;33m(\u001b[0m\u001b[0mt\u001b[0m\u001b[1;33m)\u001b[0m\u001b[1;33m\u001b[0m\u001b[1;33m\u001b[0m\u001b[0m\n\u001b[0m",
      "\u001b[1;31mNameError\u001b[0m: name 't' is not defined"
     ]
    }
   ],
   "source": [
    "t=(67,89,45,34)\n",
    "del t\n",
    "print(t)"
   ]
  },
  {
   "cell_type": "code",
   "execution_count": null,
   "metadata": {},
   "outputs": [],
   "source": [
    "int---->int(varible_name)\n",
    "str---->str(varible_name)\n",
    "float--->float(varible_name)"
   ]
  },
  {
   "cell_type": "code",
   "execution_count": null,
   "metadata": {},
   "outputs": [],
   "source": []
  },
  {
   "cell_type": "code",
   "execution_count": 150,
   "metadata": {},
   "outputs": [
    {
     "name": "stdout",
     "output_type": "stream",
     "text": [
      "[34, 56, 78, 90, 56] <class 'list'>\n",
      "(34, 56, 78, 90, 56) <class 'tuple'>\n"
     ]
    }
   ],
   "source": [
    "#list to tuple\n",
    "l=[34,56,78,90,56]\n",
    "print(l,type(l))\n",
    "t=tuple(l)\n",
    "print(t,type(t))"
   ]
  },
  {
   "cell_type": "code",
   "execution_count": 151,
   "metadata": {},
   "outputs": [
    {
     "name": "stdout",
     "output_type": "stream",
     "text": [
      "(23, 45, 67, 89) <class 'tuple'>\n",
      "[23, 45, 67, 89] <class 'list'>\n"
     ]
    }
   ],
   "source": [
    "#tuple to list\n",
    "t=(23,45,67,89)\n",
    "print(t,type(t))\n",
    "li=list(t)\n",
    "print(li,type(li))"
   ]
  },
  {
   "cell_type": "code",
   "execution_count": null,
   "metadata": {},
   "outputs": [],
   "source": [
    "list---->list(variable_name)\n",
    "tuple--->tuple(variabl_name)\n",
    "set----->set(variable_name)"
   ]
  },
  {
   "cell_type": "code",
   "execution_count": null,
   "metadata": {},
   "outputs": [],
   "source": []
  },
  {
   "cell_type": "code",
   "execution_count": null,
   "metadata": {},
   "outputs": [],
   "source": [
    "#tasks:\n",
    "1) #input: A P S S D C         #output: Apssdc\n",
    "2) #input: besta pavithra      #output: B. Pavithra\n",
    "3) #input: Apssdc Pavani python ruthu        #output:(AEIOU not ends with vowels)--->Apssdc,python\n",
    "4) #input : python123$67   Output: alphabetscount:6,digitscount:5 ,specialcharacterscount:1\n",
    "5) #input :python   output: pthn  (even ascii charcters)\n",
    "6) #I/P: li=[12,12,34,57,78,57]    O/P: [34,78]  (unique elements)(count==1)\n",
    "7) #I/P: li=[12,12,34,57,78,57]    O/P: [12,34,57,78]  (duplicates remove)"
   ]
  }
 ],
 "metadata": {
  "kernelspec": {
   "display_name": "Python 3",
   "language": "python",
   "name": "python3"
  },
  "language_info": {
   "codemirror_mode": {
    "name": "ipython",
    "version": 3
   },
   "file_extension": ".py",
   "mimetype": "text/x-python",
   "name": "python",
   "nbconvert_exporter": "python",
   "pygments_lexer": "ipython3",
   "version": "3.7.3"
  }
 },
 "nbformat": 4,
 "nbformat_minor": 2
}
