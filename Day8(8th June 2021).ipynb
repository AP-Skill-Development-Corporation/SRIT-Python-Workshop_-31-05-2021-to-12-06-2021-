{
 "cells": [
  {
   "cell_type": "markdown",
   "metadata": {},
   "source": [
    "### Today Topics\n",
    "- **Comprehensions**\n",
    "    - list comprehension\n",
    "        - [ouput input_seq condition_check]\n",
    "    - dictionary comprehension\n",
    "        - {output  condition check}\n",
    "- **Functional Programming**\n",
    "    - Iterators\n",
    "    - Generators\n",
    "    - map\n",
    "    - lambda\n",
    "    - filter"
   ]
  },
  {
   "cell_type": "code",
   "execution_count": 3,
   "metadata": {
    "collapsed": true
   },
   "outputs": [
    {
     "name": "stdout",
     "output_type": "stream",
     "text": [
      "90\n",
      "120\n",
      "[90, 91, 92, 93, 94, 95, 96, 97, 98, 99, 100, 101, 102, 103, 104, 105, 106, 107, 108, 109, 110, 111, 112, 113, 114, 115, 116, 117, 118, 119, 120]\n"
     ]
    }
   ],
   "source": [
    "# normal procedure,comprehesion\n",
    "# make a list of numbers present with in range\n",
    "li=[]\n",
    "lw,up=int(input()),int(input())\n",
    "for num in range(lw,up+1):\n",
    "    li.append(num)\n",
    "print(li)"
   ]
  },
  {
   "cell_type": "code",
   "execution_count": 5,
   "metadata": {},
   "outputs": [
    {
     "name": "stdout",
     "output_type": "stream",
     "text": [
      "90\n",
      "120\n",
      "[90, 91, 92, 93, 94, 95, 96, 97, 98, 99, 100, 101, 102, 103, 104, 105, 106, 107, 108, 109, 110, 111, 112, 113, 114, 115, 116, 117, 118, 119, 120]\n"
     ]
    }
   ],
   "source": [
    "nums=[num for num in range(int(input()),int(input())+1)]\n",
    "print(nums)"
   ]
  },
  {
   "cell_type": "code",
   "execution_count": 8,
   "metadata": {
    "collapsed": true
   },
   "outputs": [
    {
     "name": "stdout",
     "output_type": "stream",
     "text": [
      "first number:90\n",
      "second number:120\n",
      "90 91 92 93 94 95 96 97 98 99 100 101 102 103 104 105 106 107 108 109 110 111 112 113 114 115 116 117 118 119 120 "
     ]
    }
   ],
   "source": [
    "nums_comp=[print(num,end=\" \") for num in range(int(input(\"first number:\")),int(input(\"second number:\"))+1)]"
   ]
  },
  {
   "cell_type": "code",
   "execution_count": 10,
   "metadata": {},
   "outputs": [
    {
     "name": "stdout",
     "output_type": "stream",
     "text": [
      "2 4 6 8 10 12 14 16 18 20 22 24 26 28 30 32 34 36 38 40 42 44 46 48 50 52 54 56 58 60 62 64 66 68 70 72 74 76 78 80 82 84 86 88 90 92 94 96 98 "
     ]
    }
   ],
   "source": [
    "# make a list of even numbers present in a range using list comprehension\n",
    "evens=[print(num,end=\" \") for num in range(1,100) if num%2==0]"
   ]
  },
  {
   "cell_type": "code",
   "execution_count": 12,
   "metadata": {},
   "outputs": [
    {
     "name": "stdout",
     "output_type": "stream",
     "text": [
      "2 4 6 8 10 12 14 16 18 20 22 24 26 28 30 32 34 36 38 40 42 44 46 48 50 52 54 56 58 60 62 64 66 68 70 72 74 76 78 80 82 84 86 88 90 92 94 96 98 "
     ]
    }
   ],
   "source": [
    "even=[print(num,end=\" \") for num in range(2,100,2)]"
   ]
  },
  {
   "cell_type": "code",
   "execution_count": 13,
   "metadata": {
    "collapsed": true
   },
   "outputs": [
    {
     "name": "stdout",
     "output_type": "stream",
     "text": [
      "9\n",
      "9 x 1 = 9\n",
      "9 x 2 = 18\n",
      "9 x 3 = 27\n",
      "9 x 4 = 36\n",
      "9 x 5 = 45\n",
      "9 x 6 = 54\n",
      "9 x 7 = 63\n",
      "9 x 8 = 72\n",
      "9 x 9 = 81\n",
      "9 x 10 = 90\n"
     ]
    }
   ],
   "source": [
    "# print the nth multiplication table using list comprehension\n",
    "n=int(input())\n",
    "mul=[print(n,'x',num,\"=\",n*num) for num in range(1,11)]"
   ]
  },
  {
   "cell_type": "markdown",
   "metadata": {},
   "source": [
    "### Dictionary Comprehension\n",
    "- {output input_seq condition_check}"
   ]
  },
  {
   "cell_type": "code",
   "execution_count": 16,
   "metadata": {
    "collapsed": true
   },
   "outputs": [
    {
     "name": "stdout",
     "output_type": "stream",
     "text": [
      "{1: 1, 2: 4, 3: 9, 4: 16, 5: 25, 6: 36, 7: 49, 8: 64, 9: 81, 10: 100, 11: 121, 12: 144, 13: 169, 14: 196, 15: 225, 16: 256, 17: 289, 18: 324, 19: 361, 20: 400, 21: 441, 22: 484, 23: 529, 24: 576, 25: 625, 26: 676, 27: 729, 28: 784, 29: 841, 30: 900, 31: 961, 32: 1024, 33: 1089, 34: 1156, 35: 1225, 36: 1296, 37: 1369, 38: 1444, 39: 1521, 40: 1600, 41: 1681, 42: 1764, 43: 1849, 44: 1936, 45: 2025, 46: 2116, 47: 2209, 48: 2304, 49: 2401, 50: 2500, 51: 2601, 52: 2704, 53: 2809, 54: 2916, 55: 3025, 56: 3136, 57: 3249, 58: 3364, 59: 3481, 60: 3600, 61: 3721, 62: 3844, 63: 3969, 64: 4096, 65: 4225, 66: 4356, 67: 4489, 68: 4624, 69: 4761, 70: 4900, 71: 5041, 72: 5184, 73: 5329, 74: 5476, 75: 5625, 76: 5776, 77: 5929, 78: 6084, 79: 6241, 80: 6400, 81: 6561, 82: 6724, 83: 6889, 84: 7056, 85: 7225, 86: 7396, 87: 7569, 88: 7744, 89: 7921, 90: 8100, 91: 8281, 92: 8464, 93: 8649, 94: 8836, 95: 9025, 96: 9216, 97: 9409, 98: 9604, 99: 9801}\n"
     ]
    }
   ],
   "source": [
    "# prepare a dictionary of numbers & squares present in a range\n",
    "sqs={val:val**2 for val in range(1,100)}\n",
    "print(sqs) # 1 line"
   ]
  },
  {
   "cell_type": "code",
   "execution_count": 15,
   "metadata": {
    "collapsed": true
   },
   "outputs": [
    {
     "name": "stdout",
     "output_type": "stream",
     "text": [
      "{1: 1, 2: 4, 3: 9, 4: 16, 5: 25, 6: 36, 7: 49, 8: 64, 9: 81, 10: 100, 11: 121, 12: 144, 13: 169, 14: 196, 15: 225, 16: 256, 17: 289, 18: 324, 19: 361, 20: 400, 21: 441, 22: 484, 23: 529, 24: 576, 25: 625, 26: 676, 27: 729, 28: 784, 29: 841, 30: 900, 31: 961, 32: 1024, 33: 1089, 34: 1156, 35: 1225, 36: 1296, 37: 1369, 38: 1444, 39: 1521, 40: 1600, 41: 1681, 42: 1764, 43: 1849, 44: 1936, 45: 2025, 46: 2116, 47: 2209, 48: 2304, 49: 2401, 50: 2500, 51: 2601, 52: 2704, 53: 2809, 54: 2916, 55: 3025, 56: 3136, 57: 3249, 58: 3364, 59: 3481, 60: 3600, 61: 3721, 62: 3844, 63: 3969, 64: 4096, 65: 4225, 66: 4356, 67: 4489, 68: 4624, 69: 4761, 70: 4900, 71: 5041, 72: 5184, 73: 5329, 74: 5476, 75: 5625, 76: 5776, 77: 5929, 78: 6084, 79: 6241, 80: 6400, 81: 6561, 82: 6724, 83: 6889, 84: 7056, 85: 7225, 86: 7396, 87: 7569, 88: 7744, 89: 7921, 90: 8100, 91: 8281, 92: 8464, 93: 8649, 94: 8836, 95: 9025, 96: 9216, 97: 9409, 98: 9604, 99: 9801}\n"
     ]
    }
   ],
   "source": [
    "dic={}\n",
    "for num in range(1,100):\n",
    "    dic[num]=num*num\n",
    "print(dic) # 4 lines "
   ]
  },
  {
   "cell_type": "code",
   "execution_count": 22,
   "metadata": {
    "collapsed": true
   },
   "outputs": [
    {
     "name": "stdout",
     "output_type": "stream",
     "text": [
      "1\n",
      "20\n",
      "{1: 1, 2: 8, 3: 27, 4: 64, 5: 125, 6: 216, 7: 343, 8: 512, 9: 729, 10: 1000, 11: 1331, 12: 1728, 13: 2197, 14: 2744, 15: 3375, 16: 4096, 17: 4913, 18: 5832, 19: 6859, 20: 8000}\n"
     ]
    }
   ],
   "source": [
    "cubes={val:val**3 for val in range(int(input()),int(input())+1)}\n",
    "print(cubes)"
   ]
  },
  {
   "cell_type": "code",
   "execution_count": 24,
   "metadata": {},
   "outputs": [
    {
     "name": "stdout",
     "output_type": "stream",
     "text": [
      "Hi i am RuTHU FRom apssdc\n",
      "{'i': 105, 'a': 97, 'm': 109, 'u': 117, 'U': 85, 'o': 111, 's': 115, 'c': 99}\n"
     ]
    }
   ],
   "source": [
    "# read a string from user, prepare a dictionary of characters whose ascii values are odd\n",
    "# using disctionary comprehension\n",
    "chars={}\n",
    "for ch in input():\n",
    "    if ord(ch)%2==1:\n",
    "        chars[ch]=ord(ch)\n",
    "print(chars)"
   ]
  },
  {
   "cell_type": "code",
   "execution_count": 25,
   "metadata": {},
   "outputs": [
    {
     "name": "stdout",
     "output_type": "stream",
     "text": [
      "hi I AM ruthu FROM APssdc\n",
      "{'i': 105, 'I': 73, 'A': 65, 'M': 77, 'u': 117, 'O': 79, 's': 115, 'c': 99}\n"
     ]
    }
   ],
   "source": [
    "# by using dict comprehension\n",
    "chs={ch:ord(ch) for ch in input() if ord(ch)%2==1}\n",
    "print(chs)"
   ]
  },
  {
   "cell_type": "markdown",
   "metadata": {},
   "source": [
    "#### Functional Programming\n",
    "- map\n",
    "    - gives a list of results when a function is applied on an iterable\n",
    "- lambda\n",
    "    - anonymous function that produces a list of values\n",
    "    - function without name\n",
    "    - you can have any number of arguments and single expression results in\n",
    "- filter\n",
    "    - return an iterator of either true or false"
   ]
  },
  {
   "cell_type": "code",
   "execution_count": 26,
   "metadata": {},
   "outputs": [
    {
     "name": "stdout",
     "output_type": "stream",
     "text": [
      "980 765 234 190\n",
      "sum of middle integers: 26\n"
     ]
    }
   ],
   "source": [
    "# sequence of space separated numbers from user \n",
    "# perform the summation of middle values\n",
    "# i/p:980 765 234 190=8+6+3+9=o/p:26\n",
    "s=0\n",
    "for num in input().split(): # reading the numbers as characters,\n",
    "    s+=int(num[1]) # mid:ch[1]\n",
    "print(\"sum of middle integers:\",s)"
   ]
  },
  {
   "cell_type": "code",
   "execution_count": 30,
   "metadata": {},
   "outputs": [
    {
     "name": "stdout",
     "output_type": "stream",
     "text": [
      "98765 7678\n",
      "[98765, 7678]\n"
     ]
    }
   ],
   "source": [
    "li=list(map(int,input().split())) # map is converting all the chars into int \n",
    "print(li)"
   ]
  },
  {
   "cell_type": "code",
   "execution_count": 31,
   "metadata": {},
   "outputs": [
    {
     "data": {
      "text/plain": [
       "[2, 4, 5]"
      ]
     },
     "execution_count": 31,
     "metadata": {},
     "output_type": "execute_result"
    }
   ],
   "source": [
    "def find_len(st):\n",
    "    return len(st) # for finding the length of string\n",
    "\n",
    "strings=list(map(find_len,['hi','I am','Ruthu']))\n",
    "strings"
   ]
  },
  {
   "cell_type": "markdown",
   "metadata": {},
   "source": [
    "### lambda function\n",
    "- anonymous fun\n",
    "- fun without name\n",
    "- lambda output:expression"
   ]
  },
  {
   "cell_type": "code",
   "execution_count": 32,
   "metadata": {},
   "outputs": [
    {
     "data": {
      "text/plain": [
       "1"
      ]
     },
     "execution_count": 32,
     "metadata": {},
     "output_type": "execute_result"
    }
   ],
   "source": [
    "rem=lambda x:x%2 # finding remainder value is \n",
    "rem(9) # 9%2=1"
   ]
  },
  {
   "cell_type": "code",
   "execution_count": 35,
   "metadata": {},
   "outputs": [
    {
     "name": "stdout",
     "output_type": "stream",
     "text": [
      "Enter value:9\n",
      "81\n",
      "product of values= 72\n"
     ]
    }
   ],
   "source": [
    "sq=lambda x:x**2 # function\n",
    "print(sq(int(input(\"Enter value:\")))) # calling\n",
    "product=lambda x,y:x*y\n",
    "print(\"product of values=\",product(9,8)) "
   ]
  },
  {
   "cell_type": "code",
   "execution_count": 41,
   "metadata": {
    "collapsed": true
   },
   "outputs": [
    {
     "name": "stdout",
     "output_type": "stream",
     "text": [
      "5*20  100\n",
      "x value:9\n",
      "result is  180\n",
      "num value:8\n",
      "enter second number:6\n",
      "2nd result is  48\n"
     ]
    }
   ],
   "source": [
    " # using of lambda function in normal function\n",
    "def test_fun(num):\n",
    "    return lambda x:x*num # multipling 2 values\n",
    "\n",
    "res=test_fun(20) # num=20\n",
    "print(\"5*20 \",res(5)) # \n",
    "print(\"result is \",res(int(input(\"x value:\")))) \n",
    "res2=test_fun(int(input(\"num value:\")))\n",
    "print(\"2nd result is \",res2(int(input(\"enter second number:\")))) \n",
    "\n"
   ]
  },
  {
   "cell_type": "code",
   "execution_count": 5,
   "metadata": {},
   "outputs": [
    {
     "name": "stdout",
     "output_type": "stream",
     "text": [
      "hi I AM Ruthu FROM APSSDEC APNMDKJFO90HHDKFJH\n"
     ]
    },
    {
     "data": {
      "text/plain": [
       "['i', 'I', 'A', 'u', 'u', 'O', 'A', 'E', 'A', 'O']"
      ]
     },
     "execution_count": 5,
     "metadata": {},
     "output_type": "execute_result"
    }
   ],
   "source": [
    "''' filter function returns an iterator(true/false) from elements of iterable\n",
    "    by default it will return false\n",
    " '''\n",
    "\n",
    "\n",
    "def filter_vowels(ch): # user defined function\n",
    "    v=('a','e','i','o','u','A','E','I','O','U')\n",
    "    if ch in v:\n",
    "        return True\n",
    "    else:\n",
    "        return False\n",
    "\n",
    "vowels=list(filter(filter_vowels,input()))\n",
    "vowels"
   ]
  },
  {
   "cell_type": "code",
   "execution_count": 7,
   "metadata": {
    "collapsed": true
   },
   "outputs": [
    {
     "name": "stdout",
     "output_type": "stream",
     "text": [
      "91 34 65 97 23 20 100 101 \n"
     ]
    },
    {
     "data": {
      "text/plain": [
       "[97, 23, 101]"
      ]
     },
     "execution_count": 7,
     "metadata": {},
     "output_type": "execute_result"
    }
   ],
   "source": [
    "def is_prime(n): # prime or not\n",
    "    count=0\n",
    "    for num in range(1,n+1):\n",
    "        if n%num==0:\n",
    "            count+=1\n",
    "    if count==2:\n",
    "        return True\n",
    "    else:\n",
    "        return False\n",
    "\n",
    "li=list(map(int,input().split())) # chars into integers\n",
    "flt_list=list(filter(lambda num:is_prime(num),li))\n",
    "flt_list\n"
   ]
  },
  {
   "cell_type": "code",
   "execution_count": 8,
   "metadata": {
    "collapsed": true
   },
   "outputs": [
    {
     "ename": "SyntaxError",
     "evalue": "invalid syntax (<ipython-input-8-0b945239741f>, line 3)",
     "output_type": "error",
     "traceback": [
      "\u001b[1;36m  File \u001b[1;32m\"<ipython-input-8-0b945239741f>\"\u001b[1;36m, line \u001b[1;32m3\u001b[0m\n\u001b[1;33m    print(contact number)\u001b[0m\n\u001b[1;37m                       ^\u001b[0m\n\u001b[1;31mSyntaxError\u001b[0m\u001b[1;31m:\u001b[0m invalid syntax\n"
     ]
    }
   ],
   "source": [
    "d=dict({ })\n",
    "dic={'name':'contact number','edit':'contact number','save':'name','delete':'contact'}\n",
    "print(contact number)\n",
    "print(name)"
   ]
  },
  {
   "cell_type": "markdown",
   "metadata": {},
   "source": [
    "### Menu Card Application"
   ]
  },
  {
   "cell_type": "code",
   "execution_count": null,
   "metadata": {
    "collapsed": true
   },
   "outputs": [
    {
     "name": "stdout",
     "output_type": "stream",
     "text": [
      "Available Items.....\n",
      "\n",
      "Idly Rs. 25 /-\n",
      "Chapathi Rs. 30 /-\n",
      "Dosa Rs. 30 /-\n",
      "Plate Meals Rs. 70 /-\n",
      "Full Meals Rs. 100 /-\n",
      "Biryani Rice Rs. 150 /-\n",
      "Chicken Biryani Rs. 200 /-\n",
      "Fried Rice Rs. 75 /-\n",
      "Tea Rs. 10 /-\n",
      "Coffee Rs. 15 /-\n",
      "Any Cool Drink Rs. 25 /-\n"
     ]
    }
   ],
   "source": [
    "menu={\"Idly\":25,\"Chapathi\":30,\"Dosa\":30,\"Plate Meals\":70,\"Full Meals\":100,'Biryani Rice':150,\n",
    "      \"Chicken Biryani\":200,\"Fried Rice\":75,'Tea':10,'Coffee':15,'Any Cool Drink':25}\n",
    "print(\"Available Items.....\\n\")\n",
    "for item,price in menu.items():\n",
    "    print(item,\"Rs.\",price,'/-')\n",
    "\n",
    "bill=0\n",
    "order=input(\"Place your order:\").split(\",\")\n",
    "for item in order:\n",
    "    if item not in menu: \n",
    "        print(\"Sorry.!\",item,\"not available\")\n",
    "    else:\n",
    "        bill+=menu[item] # no.of plates they want for each item\n",
    "print(\"Your bill=\",bill)"
   ]
  },
  {
   "cell_type": "markdown",
   "metadata": {},
   "source": [
    "### Contact Application"
   ]
  },
  {
   "cell_type": "code",
   "execution_count": 15,
   "metadata": {},
   "outputs": [],
   "source": [
    "contacts={}\n",
    "def display_contacts():\n",
    "    if len(contacts)==0:\n",
    "        print(\"Contacts is empty\")\n",
    "    else:\n",
    "        print(\"Here is your contacts...\\n\")\n",
    "        print(contacts)\n",
    "    \n",
    "def add_contact(name,phone):\n",
    "    if name not in contacts:\n",
    "        contacts[name]=phone\n",
    "        print(\"Contact saved..!\")\n",
    "    else:\n",
    "        print(name,\"already exist..!\")\n",
    "def edit_contact(name):\n",
    "    if name in contacts:\n",
    "        new=int(input(\"New mobile number:\"))\n",
    "        contacts[name]=new\n",
    "        print(\"Contact updated..!\") \n",
    "    else:\n",
    "        print(\"Contact doesn't exist\")\n",
    "        \n",
    "def search_contact(name):\n",
    "    if name in contacts:\n",
    "        print(name,contacts[name],sep=\":\")\n",
    "        \n",
    "def delete_contact(name,phone):\n",
    "    if name in contacts:\n",
    "        contacts.pop(name)\n",
    "        print(\"Contact deleted\")\n",
    "    else:\n",
    "        print(\"Contact doesn't exist\")\n",
    "        "
   ]
  },
  {
   "cell_type": "code",
   "execution_count": 9,
   "metadata": {},
   "outputs": [
    {
     "name": "stdout",
     "output_type": "stream",
     "text": [
      "Contacts is empty\n"
     ]
    }
   ],
   "source": [
    "display_contacts()"
   ]
  },
  {
   "cell_type": "code",
   "execution_count": 10,
   "metadata": {},
   "outputs": [
    {
     "name": "stdout",
     "output_type": "stream",
     "text": [
      "Contact saved..!\n"
     ]
    }
   ],
   "source": [
    "add_contact(\"Ruthu\",8500602294)"
   ]
  },
  {
   "cell_type": "code",
   "execution_count": 11,
   "metadata": {},
   "outputs": [
    {
     "name": "stdout",
     "output_type": "stream",
     "text": [
      "Here is your contacts...\n",
      "\n",
      "{'Ruthu': 8500602294}\n"
     ]
    }
   ],
   "source": [
    "display_contacts()"
   ]
  },
  {
   "cell_type": "code",
   "execution_count": 16,
   "metadata": {},
   "outputs": [
    {
     "name": "stdout",
     "output_type": "stream",
     "text": [
      "Contact saved..!\n",
      "Contact saved..!\n",
      "Contact saved..!\n",
      "Contact saved..!\n"
     ]
    }
   ],
   "source": [
    "add_contact(\"Ashok\",7013340072)\n",
    "add_contact(\"Vanitha\",863949976)\n",
    "add_contact(\"Ruthu2\",9876543210)\n",
    "add_contact(\"I am\",9123456780)"
   ]
  },
  {
   "cell_type": "code",
   "execution_count": 17,
   "metadata": {},
   "outputs": [
    {
     "name": "stdout",
     "output_type": "stream",
     "text": [
      "Here is your contacts...\n",
      "\n",
      "{'Ashok': 7013340072, 'Vanitha': 863949976, 'Ruthu2': 9876543210, 'I am': 9123456780}\n"
     ]
    }
   ],
   "source": [
    "display_contacts()"
   ]
  },
  {
   "cell_type": "code",
   "execution_count": 18,
   "metadata": {},
   "outputs": [
    {
     "name": "stdout",
     "output_type": "stream",
     "text": [
      "Ashok:7013340072\n"
     ]
    }
   ],
   "source": [
    "search_contact(\"Ashok\")"
   ]
  },
  {
   "cell_type": "code",
   "execution_count": 19,
   "metadata": {},
   "outputs": [
    {
     "name": "stdout",
     "output_type": "stream",
     "text": [
      "New mobile number:6300762313\n",
      "Contact updated..!\n"
     ]
    }
   ],
   "source": [
    "edit_contact(\"Ruthu2\")"
   ]
  },
  {
   "cell_type": "code",
   "execution_count": 20,
   "metadata": {},
   "outputs": [
    {
     "name": "stdout",
     "output_type": "stream",
     "text": [
      "Here is your contacts...\n",
      "\n",
      "{'Ashok': 7013340072, 'Vanitha': 863949976, 'Ruthu2': 6300762313, 'I am': 9123456780}\n"
     ]
    }
   ],
   "source": [
    "display_contacts()"
   ]
  },
  {
   "cell_type": "code",
   "execution_count": 22,
   "metadata": {},
   "outputs": [
    {
     "name": "stdout",
     "output_type": "stream",
     "text": [
      "Contact deleted\n"
     ]
    }
   ],
   "source": [
    "delete_contact(\"Vanitha\",863949976)"
   ]
  },
  {
   "cell_type": "code",
   "execution_count": 23,
   "metadata": {},
   "outputs": [
    {
     "name": "stdout",
     "output_type": "stream",
     "text": [
      "Here is your contacts...\n",
      "\n",
      "{'Ashok': 7013340072, 'Ruthu2': 6300762313, 'I am': 9123456780}\n"
     ]
    }
   ],
   "source": [
    "display_contacts()"
   ]
  },
  {
   "cell_type": "code",
   "execution_count": null,
   "metadata": {},
   "outputs": [],
   "source": []
  }
 ],
 "metadata": {
  "kernelspec": {
   "display_name": "Python 3",
   "language": "python",
   "name": "python3"
  },
  "language_info": {
   "codemirror_mode": {
    "name": "ipython",
    "version": 3
   },
   "file_extension": ".py",
   "mimetype": "text/x-python",
   "name": "python",
   "nbconvert_exporter": "python",
   "pygments_lexer": "ipython3",
   "version": "3.7.4"
  }
 },
 "nbformat": 4,
 "nbformat_minor": 2
}
