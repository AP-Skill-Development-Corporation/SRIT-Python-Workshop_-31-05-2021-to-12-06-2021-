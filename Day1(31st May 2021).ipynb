{
 "cells": [
  {
   "cell_type": "markdown",
   "metadata": {},
   "source": [
    "## Today Topics\n",
    "- Software installation\n",
    "- Jupyter notebook environment\n",
    "- Python Introduction\n",
    "- Registrations"
   ]
  },
  {
   "cell_type": "code",
   "execution_count": 8,
   "metadata": {},
   "outputs": [
    {
     "name": "stdout",
     "output_type": "stream",
     "text": [
      "13\n"
     ]
    }
   ],
   "source": [
    "print(9+4)"
   ]
  },
  {
   "cell_type": "code",
   "execution_count": 7,
   "metadata": {
    "collapsed": true
   },
   "outputs": [
    {
     "name": "stdout",
     "output_type": "stream",
     "text": [
      "hi welcome to the python programming\n"
     ]
    }
   ],
   "source": [
    "print(\"hi welcome to the python programming\")"
   ]
  },
  {
   "cell_type": "markdown",
   "metadata": {},
   "source": [
    "# Markdown basics\n",
    "- Headings\n",
    "- styling\n",
    "- paragraph"
   ]
  },
  {
   "cell_type": "markdown",
   "metadata": {},
   "source": [
    "# Heading1\n",
    "## Heading2\n",
    "### Heading3\n",
    "#### Heading4\n",
    "##### Heading5\n",
    "###### Heading6"
   ]
  },
  {
   "cell_type": "markdown",
   "metadata": {},
   "source": [
    "### Styling of text\n",
    "- * represents the italic \n",
    "- I am *italic* in this sentence .\n",
    "- **bold text** format\n",
    "- ***bold italic text*** in this line"
   ]
  },
  {
   "cell_type": "markdown",
   "metadata": {},
   "source": [
    "Format of Document"
   ]
  },
  {
   "cell_type": "markdown",
   "metadata": {},
   "source": [
    "Introduction\n",
    "\n",
    "Topic in Chapter \n",
    "\n",
    "Heading\n",
    "\n",
    "Sub headings\n",
    "\n",
    "paragraphs"
   ]
  },
  {
   "cell_type": "markdown",
   "metadata": {},
   "source": [
    "Introduction<br>\n",
    "Topic in Chapter <br>\n",
    "Heading<br>\n",
    "Sub headings<br>\n",
    "paragraphs<br>"
   ]
  },
  {
   "cell_type": "markdown",
   "metadata": {},
   "source": [
    "### Python\n",
    "* (minus) or * (star) text\n",
    "    * sub heading\n",
    "        * text/matter\n",
    "            * paragraph"
   ]
  },
  {
   "cell_type": "markdown",
   "metadata": {},
   "source": [
    "what is programming?\n",
    "===================\n",
    "what is a programming language ?\n",
    "===========================\n",
    "why do we need programming?\n",
    "=========================\n",
    "- in order to communicate with the system,a media\n",
    "- being a human:telugu to communication\n",
    "- a machine, we need a language, 0 and 1(binary)\n",
    "- instructions to the system to work/ communicate with human properly\n",
    "    - a set of instructions --programming\n",
    "- 2 types:\n",
    "    - high-level-programming language\n",
    "\t- user understandable language\n",
    "        - 2 types:\n",
    "            - C,C++,JAVA,PYTHON etc...\n",
    "                - C language,procedural language\n",
    "                - develop Operating System,machines\n",
    "            - C++,Java:object oriented languages\n",
    "                - deal with realtime entities\n",
    "                - car: to carry the things/people\n",
    "                    - start,move/travel,resources like petrol\n",
    "\t\t- **Python**\n",
    "            - : It is a general purpose,high level and interpreted language,\n",
    "            - semi object oriented language,\n",
    "            - it gives us the line by line execution .\n",
    "\t\t\t- by step by step and also solve the realtime applications .\n",
    "            - simplicity and syntax free, in less lines of code\n",
    "\t- java, bundles of code\n",
    "\t- python, we develop by simple\n",
    "\t- many purposes: \n",
    "\t\t- scientific computation,web development,application s/w,\n",
    "\t\t- system s/w developing\n",
    "        - it is the main building block of all current running technologies such as IOT,Cloud computing, Robotics, Machine Learning,Data Science etc ....\n",
    "\t\t\n",
    "- low-level-programming language\n",
    "\t- this lang is understandable by machine\n",
    "\t- COBALT,FORTRAN etc.\n"
   ]
  },
  {
   "cell_type": "code",
   "execution_count": null,
   "metadata": {},
   "outputs": [],
   "source": []
  }
 ],
 "metadata": {
  "kernelspec": {
   "display_name": "Python 3",
   "language": "python",
   "name": "python3"
  },
  "language_info": {
   "codemirror_mode": {
    "name": "ipython",
    "version": 3
   },
   "file_extension": ".py",
   "mimetype": "text/x-python",
   "name": "python",
   "nbconvert_exporter": "python",
   "pygments_lexer": "ipython3",
   "version": "3.7.4"
  }
 },
 "nbformat": 4,
 "nbformat_minor": 2
}
