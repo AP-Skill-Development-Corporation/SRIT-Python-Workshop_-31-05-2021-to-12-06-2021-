{
 "cells": [
  {
   "cell_type": "markdown",
   "metadata": {},
   "source": [
    "### Today Topics\n",
    "- Conditional Statements\n",
    "- Iterating Statements"
   ]
  },
  {
   "cell_type": "markdown",
   "metadata": {},
   "source": [
    "### Conditional Statement\n",
    "- A statement that put some condition in program\n",
    "- Condition based programming\n",
    "- **IF,ELSE,ELIF(ELSE IF)**\n",
    "    - **SYNTAX**\n",
    "        - if condition:\n",
    "            - statements goes \n"
   ]
  },
  {
   "cell_type": "code",
   "execution_count": 2,
   "metadata": {},
   "outputs": [
    {
     "name": "stdout",
     "output_type": "stream",
     "text": [
      "Enter number:9\n"
     ]
    }
   ],
   "source": [
    "# Read a number from user and print if it is even  # condtion\n",
    "# num%2=0-->even\n",
    "num=int(input(\"Enter number:\")) # reading the number\n",
    "if num%2==0:\n",
    "    print(\"entered number is \",num)\n"
   ]
  },
  {
   "cell_type": "code",
   "execution_count": 7,
   "metadata": {},
   "outputs": [
    {
     "name": "stdout",
     "output_type": "stream",
     "text": [
      "Enter number:35\n",
      "Odd number is taken from user\n"
     ]
    }
   ],
   "source": [
    "#read a number from user print wheter it is even or odd\n",
    "n=int(input(\"Enter number:\"))\n",
    "if n%2 is 0:\n",
    "    print(\"Given number is even\")\n",
    "else:\n",
    "    print(\"Odd number is taken from user\")"
   ]
  },
  {
   "cell_type": "code",
   "execution_count": 11,
   "metadata": {
    "collapsed": true
   },
   "outputs": [
    {
     "name": "stdout",
     "output_type": "stream",
     "text": [
      "Enter value:0\n",
      "Whole number\n"
     ]
    }
   ],
   "source": [
    "# read a number from user and\n",
    "# print positive if number is greater than 0\n",
    "# print -ve if number is lessthan 0\n",
    "# print neutral,0 i\"))\n",
    "if f>0:\n",
    "    print(\"Positive Integerf number is 0\n",
    "f=int(input(\"Enter value:\")\n",
    "elif f==0:\n",
    "    print(\"Whole number\")\n",
    "else:\n",
    "    print(\"Negative Integer\")"
   ]
  },
  {
   "cell_type": "code",
   "execution_count": 13,
   "metadata": {},
   "outputs": [],
   "source": [
    "# Read 3 numbers from user and print which is greater\n",
    "# 101,90,345--345 is greater"
   ]
  },
  {
   "cell_type": "code",
   "execution_count": 16,
   "metadata": {
    "collapsed": true
   },
   "outputs": [
    {
     "name": "stdout",
     "output_type": "stream",
     "text": [
      "Enter first number: 90\n",
      "Enter second number: 3454\n",
      "Enter third number: 10\n",
      "The largest number is 3454.0\n"
     ]
    }
   ],
   "source": [
    "num1 = float(input(\"Enter first number: \"))\n",
    "num2 = float(input(\"Enter second number: \"))\n",
    "num3 = float(input(\"Enter third number: \"))  \n",
    "if (num1 > num2) and (num1 > num3):\n",
    "   largest = num1\n",
    "elif (num2 > num1) and (num2 > num3):\n",
    "   largest = num2\n",
    "else:\n",
    "   largest = num3\n",
    " \n",
    "print(\"The largest number is\",largest)\n"
   ]
  },
  {
   "cell_type": "code",
   "execution_count": 17,
   "metadata": {
    "collapsed": true
   },
   "outputs": [
    {
     "name": "stdout",
     "output_type": "stream",
     "text": [
      "Num2 is greater\n"
     ]
    }
   ],
   "source": [
    "if num1>num2 and num1>num3:\n",
    "    print(\"Num1 is greater\")\n",
    "elif num2>num1 and num2>num3:\n",
    "    print(\"Num2 is greater\")\n",
    "else:\n",
    "    print(\"Num3 is greater\")"
   ]
  },
  {
   "cell_type": "markdown",
   "metadata": {},
   "source": [
    "### Iterating Statements\n",
    "- A statement which is repeated/iterated for multiple times\n",
    "- **for,while**\n",
    "    - syntax:\n",
    "        - for iterator in iterable:\n",
    "            - statements goes here\n"
   ]
  },
  {
   "cell_type": "code",
   "execution_count": 18,
   "metadata": {
    "collapsed": true
   },
   "outputs": [
    {
     "name": "stdout",
     "output_type": "stream",
     "text": [
      "Enter the strings:ruthu\n",
      "ruthu\n",
      "ruthu\n",
      "ruthu\n",
      "ruthu\n",
      "ruthu\n"
     ]
    }
   ],
   "source": [
    "# read a string from user and print ntimes\n",
    "#n :user\n",
    "#\"ruthu\" and i want to print for 10 times\n",
    "st=input(\"Enter the strings:\")\n",
    "print(st)\n",
    "print(st)\n",
    "print(st)\n",
    "print(st)\n",
    "print(st)"
   ]
  },
  {
   "cell_type": "code",
   "execution_count": 24,
   "metadata": {
    "collapsed": true
   },
   "outputs": [
    {
     "name": "stdout",
     "output_type": "stream",
     "text": [
      "ruthuruthuruthuruthuruthu,"
     ]
    }
   ],
   "source": [
    "print(st*5,end=\",\")"
   ]
  },
  {
   "cell_type": "code",
   "execution_count": 25,
   "metadata": {},
   "outputs": [],
   "source": [
    "#var=1 to 10 :in a single var"
   ]
  },
  {
   "cell_type": "markdown",
   "metadata": {},
   "source": [
    "### range()\n",
    "- which stores a range of values\n",
    "- atleast one argument and atmost 2 args\n",
    "- range(upper/stop)\n",
    "- range(start,stop)\n",
    "- range(start,stop,step_count)"
   ]
  },
  {
   "cell_type": "code",
   "execution_count": 26,
   "metadata": {},
   "outputs": [
    {
     "data": {
      "text/plain": [
       "range(0, 10)"
      ]
     },
     "execution_count": 26,
     "metadata": {},
     "output_type": "execute_result"
    }
   ],
   "source": [
    "nums=range(10) #10,by default it starts from 0,10 is exclusive n-1=9\n",
    "nums # 10 nums"
   ]
  },
  {
   "cell_type": "code",
   "execution_count": 27,
   "metadata": {
    "collapsed": true
   },
   "outputs": [
    {
     "name": "stdout",
     "output_type": "stream",
     "text": [
      "0\n",
      "1\n",
      "2\n",
      "3\n",
      "4\n",
      "5\n",
      "6\n",
      "7\n",
      "8\n",
      "9\n"
     ]
    }
   ],
   "source": [
    "for num in nums: # 0\n",
    "    print(num)"
   ]
  },
  {
   "cell_type": "code",
   "execution_count": 30,
   "metadata": {},
   "outputs": [
    {
     "name": "stdout",
     "output_type": "stream",
     "text": [
      "0 1 2 3 4 5 6 7 8 9 "
     ]
    }
   ],
   "source": [
    "# printing n values side by side\n",
    "for num in nums:\n",
    "    print(num,end=\" \")"
   ]
  },
  {
   "cell_type": "code",
   "execution_count": 31,
   "metadata": {},
   "outputs": [
    {
     "name": "stdout",
     "output_type": "stream",
     "text": [
      "first number:10\n",
      "second number:50\n",
      "10 11 12 13 14 15 16 17 18 19 20 21 22 23 24 25 26 27 28 29 30 31 32 33 34 35 36 37 38 39 40 41 42 43 44 45 46 47 48 49 "
     ]
    }
   ],
   "source": [
    "# 2 args:start & stop,10 and 50\n",
    "start,stop=int(input(\"first number:\")),int(input(\"second number:\"))\n",
    "rn=range(start,stop)\n",
    "for num in rn: # iterator in iterable\n",
    "    print(num,end=\" \")\n",
    "    "
   ]
  },
  {
   "cell_type": "code",
   "execution_count": 32,
   "metadata": {},
   "outputs": [
    {
     "name": "stdout",
     "output_type": "stream",
     "text": [
      "first number:11\n",
      "second number:45\n",
      "11 12 13 14 15 16 17 18 19 20 21 22 23 24 25 26 27 28 29 30 31 32 33 34 35 36 37 38 39 40 41 42 43 44 "
     ]
    }
   ],
   "source": [
    "# 2 args:start & stop,10 and 50\n",
    "start,stop=int(input(\"first number:\")),int(input(\"second number:\"))\n",
    "for num in range(start,stop): # iterator in iterable\n",
    "    print(num,end=\" \")\n",
    "    "
   ]
  },
  {
   "cell_type": "code",
   "execution_count": 33,
   "metadata": {},
   "outputs": [
    {
     "name": "stdout",
     "output_type": "stream",
     "text": [
      "100 102 104 106 108 110 112 114 116 118 120 122 124 126 128 130 132 134 136 138 140 142 144 146 148 150 152 154 156 158 160 162 164 166 168 170 172 174 176 178 180 182 184 186 188 190 192 194 196 198 "
     ]
    }
   ],
   "source": [
    "# range with 3 arguments\n",
    "# print the even numbers present within a range(100,200)\n",
    "for p in range(100,200,2):\n",
    "    print(p,end=\" \")"
   ]
  },
  {
   "cell_type": "code",
   "execution_count": 34,
   "metadata": {},
   "outputs": [
    {
     "name": "stdout",
     "output_type": "stream",
     "text": [
      "101 103 105 107 109 111 113 115 117 119 121 123 125 127 129 131 133 135 137 139 141 143 145 147 149 151 153 155 157 159 161 163 165 167 169 171 173 175 177 179 181 183 185 187 189 191 193 195 197 199 "
     ]
    }
   ],
   "source": [
    "#odd numbers:start & stop\n",
    "for num in range(101,200,2):\n",
    "    print(num,end=\" \")"
   ]
  },
  {
   "cell_type": "code",
   "execution_count": 36,
   "metadata": {},
   "outputs": [
    {
     "name": "stdout",
     "output_type": "stream",
     "text": [
      "100 104 108 112 116 120 124 128 132 136 140 144 148 152 156 160 164 168 172 176 180 184 188 192 196 "
     ]
    }
   ],
   "source": [
    "# multiples of 4\n",
    "for num in range(100,200,4):\n",
    "    print(num,end=\" \")"
   ]
  },
  {
   "cell_type": "code",
   "execution_count": 37,
   "metadata": {},
   "outputs": [],
   "source": [
    "# read a number from user and print factors of it\n",
    "# 10:1,2,5,10\n",
    "# a number which divides the given number exactly that is said to be factor"
   ]
  },
  {
   "cell_type": "code",
   "execution_count": 39,
   "metadata": {},
   "outputs": [
    {
     "data": {
      "text/plain": [
       "1"
      ]
     },
     "execution_count": 39,
     "metadata": {},
     "output_type": "execute_result"
    }
   ],
   "source": [
    "10%3 # "
   ]
  },
  {
   "cell_type": "code",
   "execution_count": 40,
   "metadata": {},
   "outputs": [
    {
     "data": {
      "text/plain": [
       "2"
      ]
     },
     "execution_count": 40,
     "metadata": {},
     "output_type": "execute_result"
    }
   ],
   "source": [
    "10%4"
   ]
  },
  {
   "cell_type": "code",
   "execution_count": 41,
   "metadata": {},
   "outputs": [
    {
     "data": {
      "text/plain": [
       "0"
      ]
     },
     "execution_count": 41,
     "metadata": {},
     "output_type": "execute_result"
    }
   ],
   "source": [
    "10%5 #5 is factor of 10"
   ]
  },
  {
   "cell_type": "code",
   "execution_count": 46,
   "metadata": {},
   "outputs": [
    {
     "name": "stdout",
     "output_type": "stream",
     "text": [
      "10 5 2 1 "
     ]
    }
   ],
   "source": [
    "for i in range(10,0,-1): # -1,decrement\n",
    "    if 10%i==0:\n",
    "        print(i,end=\" \") # reverse order"
   ]
  },
  {
   "cell_type": "code",
   "execution_count": 52,
   "metadata": {},
   "outputs": [
    {
     "name": "stdout",
     "output_type": "stream",
     "text": [
      "65\n",
      "Factors are:1 5 13 65 "
     ]
    }
   ],
   "source": [
    "n=int(input())\n",
    "print(\"Factors are\",end=\":\")\n",
    "for num in range(1,n+1): # n,+1\n",
    "    if n%num==0:\n",
    "        print(num,end=\" \")"
   ]
  },
  {
   "cell_type": "code",
   "execution_count": 62,
   "metadata": {
    "collapsed": true
   },
   "outputs": [
    {
     "name": "stdout",
     "output_type": "stream",
     "text": [
      "College:Sri RAMANUJAN insTITUTE OF tecNOLOGY\n",
      "i A A U A i I U E O e O O "
     ]
    }
   ],
   "source": [
    "# read your clg name from user and print the vowels present in that if any\n",
    "clg=input(\"College:\")\n",
    "vowels=\"aeiouAEIOU\"\n",
    "for ch in clg:\n",
    "    if ch in vowels: # single comparision\n",
    "        print(ch,end=\" \")"
   ]
  },
  {
   "cell_type": "code",
   "execution_count": 61,
   "metadata": {
    "collapsed": true
   },
   "outputs": [
    {
     "name": "stdout",
     "output_type": "stream",
     "text": [
      "College:Sri Ramanujan Institute oF TECHNOLOGY\n",
      "i a a u a I i u e o E O O "
     ]
    }
   ],
   "source": [
    "# read your clg name from user and print the vowels present in that if any\n",
    "clg=input(\"College:\")\n",
    "for ch in clg:\n",
    "    if ch=='a' or ch==\"e\" or ch==\"i\" or ch==\"o\" or ch==\"u\" or ch==\"A\" or ch==\"E\" or ch==\"I\" or ch==\"O\" or ch==\"U\":\n",
    "        print(ch,end=\" \")"
   ]
  },
  {
   "cell_type": "code",
   "execution_count": 4,
   "metadata": {
    "collapsed": true
   },
   "outputs": [
    {
     "name": "stdout",
     "output_type": "stream",
     "text": [
      "Enter a string:Sri ramanujan institute of technology\n",
      "37\n"
     ]
    }
   ],
   "source": [
    "# write a python program to count the no.of characters present in a string\n",
    "# \"Sri ramanujan institute of technology\"\n",
    "s=input(\"Enter a string:\") # input()\n",
    "num = 0\n",
    "for c in s:\n",
    "    num=num+1\n",
    "print(num)\n"
   ]
  },
  {
   "cell_type": "code",
   "execution_count": 5,
   "metadata": {},
   "outputs": [
    {
     "data": {
      "text/plain": [
       "37"
      ]
     },
     "execution_count": 5,
     "metadata": {},
     "output_type": "execute_result"
    }
   ],
   "source": [
    "# input().split()"
   ]
  },
  {
   "cell_type": "code",
   "execution_count": 8,
   "metadata": {},
   "outputs": [
    {
     "name": "stdout",
     "output_type": "stream",
     "text": [
      "No.of characters present in string:33\n"
     ]
    }
   ],
   "source": [
    "count=0\n",
    "print(\"No.of characters present in string\",end=\":\")\n",
    "for ch in s:\n",
    "    if ch!=\" \":\n",
    "        count+=1\n",
    "print(count)"
   ]
  },
  {
   "cell_type": "code",
   "execution_count": 12,
   "metadata": {
    "collapsed": true
   },
   "outputs": [
    {
     "name": "stdout",
     "output_type": "stream",
     "text": [
      "17\n",
      "Prime\n"
     ]
    }
   ],
   "source": [
    "# read number from user and check whether it is a prime or not\n",
    "# 9:not a prime\n",
    "# 7 :prime\n",
    "# a number which have 2 factors:1 & n\n",
    "pr=int(input())\n",
    "factors=0\n",
    "for num in range(1,pr+1):\n",
    "    if pr%num==0:\n",
    "        factors+=1\n",
    "if factors==2:\n",
    "    print(\"Prime\")\n",
    "else:\n",
    "    print(\"Not a prime\")"
   ]
  },
  {
   "cell_type": "code",
   "execution_count": 13,
   "metadata": {
    "collapsed": true
   },
   "outputs": [
    {
     "ename": "SyntaxError",
     "evalue": "invalid syntax (<ipython-input-13-2ef537d95526>, line 3)",
     "output_type": "error",
     "traceback": [
      "\u001b[1;36m  File \u001b[1;32m\"<ipython-input-13-2ef537d95526>\"\u001b[1;36m, line \u001b[1;32m3\u001b[0m\n\u001b[1;33m    13x1=13\u001b[0m\n\u001b[1;37m       ^\u001b[0m\n\u001b[1;31mSyntaxError\u001b[0m\u001b[1;31m:\u001b[0m invalid syntax\n"
     ]
    }
   ],
   "source": [
    "# print the multiplication table of a number (n) read from user\n",
    "n=13\n",
    "13x1=13\n",
    "13x2=26\n",
    "13x3=39\n",
    "...\n",
    "13x10=130"
   ]
  },
  {
   "cell_type": "code",
   "execution_count": 14,
   "metadata": {
    "collapsed": true
   },
   "outputs": [
    {
     "name": "stdout",
     "output_type": "stream",
     "text": [
      "Enter a number: 13\n",
      "13 x 1 = 13\n",
      "13 x 2 = 26\n",
      "13 x 3 = 39\n",
      "13 x 4 = 52\n",
      "13 x 5 = 65\n",
      "13 x 6 = 78\n",
      "13 x 7 = 91\n",
      "13 x 8 = 104\n",
      "13 x 9 = 117\n",
      "13 x 10 = 130\n"
     ]
    }
   ],
   "source": [
    "a=int(input(\"Enter a number: \"))\n",
    "for c in range(1,11):\n",
    "    print(a,'x',c,'=',a*c)\n"
   ]
  },
  {
   "cell_type": "code",
   "execution_count": 15,
   "metadata": {
    "collapsed": true
   },
   "outputs": [
    {
     "name": "stdout",
     "output_type": "stream",
     "text": [
      " Enter the number : 15\n",
      "Multiplication Table of : \n",
      "15 x 1 = 15\n",
      "15 x 2 = 30\n",
      "15 x 3 = 45\n",
      "15 x 4 = 60\n",
      "15 x 5 = 75\n",
      "15 x 6 = 90\n",
      "15 x 7 = 105\n",
      "15 x 8 = 120\n",
      "15 x 9 = 135\n",
      "15 x 10 = 150\n"
     ]
    }
   ],
   "source": [
    "N = int(input(\" Enter the number : \"))        \n",
    "print(\"Multiplication Table of : \")  \n",
    "for i in range(1,11):    \n",
    "    print(N,'x',i,'=',N*i)"
   ]
  },
  {
   "cell_type": "code",
   "execution_count": 16,
   "metadata": {
    "collapsed": true
   },
   "outputs": [
    {
     "name": "stdout",
     "output_type": "stream",
     "text": [
      "17 x 1 = 17\n",
      "17 x 2 = 34\n",
      "17 x 3 = 51\n",
      "17 x 4 = 68\n",
      "17 x 5 = 85\n",
      "17 x 6 = 102\n",
      "17 x 7 = 119\n",
      "17 x 8 = 136\n",
      "17 x 9 = 153\n",
      "17 x 10 = 170\n"
     ]
    }
   ],
   "source": [
    "for i in range(1, 11):\n",
    "    print(num, 'x', i, '=', num*i)\n"
   ]
  },
  {
   "cell_type": "markdown",
   "metadata": {},
   "source": [
    "### While loop\n",
    "- a condition based iteration\n",
    "- while condtion:\n",
    "    - statement goes here\n",
    "- user/programmer incrementation\n",
    "- iterator should initialized first"
   ]
  },
  {
   "cell_type": "code",
   "execution_count": 1,
   "metadata": {},
   "outputs": [
    {
     "name": "stdout",
     "output_type": "stream",
     "text": [
      "1 2 3 4 5 6 7 8 9 10 11 12 13 14 15 16 17 18 19 20 "
     ]
    }
   ],
   "source": [
    "# print the numbers from 1 to 20\n",
    "num=1\n",
    "while num<=20: # \n",
    "    print(num,end=\" \")\n",
    "    num+=1"
   ]
  },
  {
   "cell_type": "code",
   "execution_count": 2,
   "metadata": {
    "collapsed": true
   },
   "outputs": [
    {
     "name": "stdout",
     "output_type": "stream",
     "text": [
      "Enter a number: 13\n",
      "Multiplication table:\n",
      "13 x 10 = 130\n",
      "13 x 9 = 117\n",
      "13 x 8 = 104\n",
      "13 x 7 = 91\n",
      "13 x 6 = 78\n",
      "13 x 5 = 65\n",
      "13 x 4 = 52\n",
      "13 x 3 = 39\n",
      "13 x 2 = 26\n",
      "13 x 1 = 13\n"
     ]
    }
   ],
   "source": [
    "# print the multiplication table of a number in reverse order\n",
    "'''' 13x10=130\n",
    "13x9=117\n",
    "...\n",
    "13x1=13 '''\n",
    "\n",
    "\n",
    "a=int(input(\"Enter a number: \"))\n",
    "print(\"Multiplication table:\")\n",
    "c=10\n",
    "while c>=1:\n",
    "    print(a,'x',c,'=',a*c)\n",
    "    c=c-1 # user decrementation\n"
   ]
  },
  {
   "cell_type": "code",
   "execution_count": 5,
   "metadata": {
    "collapsed": true
   },
   "outputs": [
    {
     "name": "stdout",
     "output_type": "stream",
     "text": [
      "12345\n",
      "sum of the digits: 15\n"
     ]
    }
   ],
   "source": [
    "# read a number from user and find the sum of digits in it\n",
    "# 12345:1+2+3+4+5=15\n",
    "# 12345/10=12334,rem=5\n",
    "# 1234/10=123,rem=4\n",
    "#123/10=12,rem=3\n",
    "#12/10=1,rem=2\n",
    "#1/10=rem=1\n",
    "x=int(input())\n",
    "s=0\n",
    "while x!=0:\n",
    "    rem=x%10\n",
    "    s+=rem # s=s+rem\n",
    "    x//=10 # \n",
    "    \n",
    "print(\"sum of the digits:\",s)"
   ]
  },
  {
   "cell_type": "code",
   "execution_count": 6,
   "metadata": {},
   "outputs": [
    {
     "name": "stdout",
     "output_type": "stream",
     "text": [
      "12345\n"
     ]
    },
    {
     "data": {
      "text/plain": [
       "15"
      ]
     },
     "execution_count": 6,
     "metadata": {},
     "output_type": "execute_result"
    }
   ],
   "source": [
    "#\n",
    "num=input()\n",
    "digits=0\n",
    "for ch in num:\n",
    "    digits+=int(ch)\n",
    "digits"
   ]
  },
  {
   "cell_type": "code",
   "execution_count": 7,
   "metadata": {
    "collapsed": true
   },
   "outputs": [
    {
     "name": "stdout",
     "output_type": "stream",
     "text": [
      "20 19 18 17 16 15 14 13 12 11 10 9 8 7 6 5 4 3 2 1 "
     ]
    }
   ],
   "source": [
    "# print the numbers in reverse order\n",
    "val=20\n",
    "while val>=1:\n",
    "    print(val,end=\" \")\n",
    "    val-=1"
   ]
  },
  {
   "cell_type": "markdown",
   "metadata": {},
   "source": [
    "### Nested Loops\n",
    "- Loops within loops\n",
    "- outer loop & inner loop\n",
    "- inner loop is to be iterated wrt outer loop\n",
    "- for in for\n",
    "- for in while\n",
    "- while in for\n",
    "- while in while"
   ]
  },
  {
   "cell_type": "code",
   "execution_count": 1,
   "metadata": {},
   "outputs": [
    {
     "name": "stdout",
     "output_type": "stream",
     "text": [
      "1\n",
      "100\n",
      "0\n"
     ]
    }
   ],
   "source": [
    "# print the prime number present  in a range\n",
    "# 1 to 100, count the no.of primes \n",
    "f,s=int(input()),int(input())\n",
    "count=0\n",
    "factors=0\n",
    "for num in range(f,s+1):\n",
    "    for dig in range(1,num+1):\n",
    "        if num%dig==0:\n",
    "            factors+=1\n",
    "    if factors==2:\n",
    "        print(num,end=\" \")\n",
    "        count+=1\n",
    "print(count)"
   ]
  },
  {
   "cell_type": "code",
   "execution_count": 10,
   "metadata": {
    "collapsed": true
   },
   "outputs": [
    {
     "name": "stdout",
     "output_type": "stream",
     "text": [
      "1 2 3 4 5 \n",
      "1 2 3 4 5 \n"
     ]
    }
   ],
   "source": [
    "for line in range(1,3): # 1 2 \n",
    "    for val in range(1,6): # 5 times \n",
    "        print(val,end=\" \")\n",
    "    print()"
   ]
  },
  {
   "cell_type": "code",
   "execution_count": 12,
   "metadata": {
    "collapsed": true
   },
   "outputs": [
    {
     "name": "stdout",
     "output_type": "stream",
     "text": [
      "1 \n",
      "1 2 \n",
      "1 2 3 \n",
      "1 2 3 4 \n",
      "1 2 3 4 5 \n"
     ]
    }
   ],
   "source": [
    "for line in range(1,6):# lines:5times\n",
    "    for val in range(1,line+1): # line times \n",
    "        print(val,end=\" \")\n",
    "    print()"
   ]
  },
  {
   "cell_type": "code",
   "execution_count": 13,
   "metadata": {
    "collapsed": true
   },
   "outputs": [
    {
     "name": "stdout",
     "output_type": "stream",
     "text": [
      "1 \n",
      "2 2 \n",
      "3 3 3 \n",
      "4 4 4 4 \n",
      "5 5 5 5 5 \n"
     ]
    }
   ],
   "source": [
    "for line in range(1,6):\n",
    "    for val in range(1,line+1):\n",
    "        print(line,end=\" \")\n",
    "    print()"
   ]
  },
  {
   "cell_type": "code",
   "execution_count": 1,
   "metadata": {
    "collapsed": true
   },
   "outputs": [
    {
     "name": "stdout",
     "output_type": "stream",
     "text": [
      "1 \n",
      "2 \n",
      "3 \n",
      "4 \n",
      "5 \n"
     ]
    }
   ],
   "source": [
    "num=1\n",
    "for line in range(1,6):\n",
    "    while num<=line:\n",
    "        print(num,end=\" \")\n",
    "        num+=1\n",
    "    line+=1\n",
    "    print()"
   ]
  },
  {
   "cell_type": "code",
   "execution_count": 3,
   "metadata": {},
   "outputs": [
    {
     "name": "stdout",
     "output_type": "stream",
     "text": [
      "1\n",
      "100\n",
      "2 3 5 7 11 13 17 19 23 29 31 37 41 43 47 53 59 61 67 71 73 79 83 89 97 "
     ]
    }
   ],
   "source": [
    "x,y=int(input()),int(input())\n",
    "while x<=y:\n",
    "    count=0\n",
    "    num=1\n",
    "    while num<=x: # x prime or not\n",
    "        if x%num==0:\n",
    "            count+=1\n",
    "        num+=1\n",
    "    if count==2:\n",
    "        print(x,end=\" \")\n",
    "    x+=1"
   ]
  },
  {
   "cell_type": "code",
   "execution_count": 5,
   "metadata": {},
   "outputs": [
    {
     "name": "stdout",
     "output_type": "stream",
     "text": [
      "1\n",
      "100\n",
      "2 3 5 7 11 13 17 19 23 29 31 37 41 43 47 53 59 61 67 71 73 79 83 89 97 "
     ]
    }
   ],
   "source": [
    "f,s=int(input()),int(input())\n",
    "for num in range(f, s + 1):\n",
    "    if num > 1:\n",
    "        for i in range(2, num):\n",
    "            if (num % i) == 0:\n",
    "                break\n",
    "        else:\n",
    "            print(num,end=\" \")\n"
   ]
  },
  {
   "cell_type": "code",
   "execution_count": null,
   "metadata": {},
   "outputs": [],
   "source": []
  }
 ],
 "metadata": {
  "kernelspec": {
   "display_name": "Python 3",
   "language": "python",
   "name": "python3"
  },
  "language_info": {
   "codemirror_mode": {
    "name": "ipython",
    "version": 3
   },
   "file_extension": ".py",
   "mimetype": "text/x-python",
   "name": "python",
   "nbconvert_exporter": "python",
   "pygments_lexer": "ipython3",
   "version": "3.7.4"
  }
 },
 "nbformat": 4,
 "nbformat_minor": 2
}
