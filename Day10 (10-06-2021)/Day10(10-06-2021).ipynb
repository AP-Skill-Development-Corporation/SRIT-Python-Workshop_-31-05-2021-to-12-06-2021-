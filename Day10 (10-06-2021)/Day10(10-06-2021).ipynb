{
 "cells": [
  {
   "cell_type": "code",
   "execution_count": 5,
   "metadata": {},
   "outputs": [
    {
     "name": "stdout",
     "output_type": "stream",
     "text": [
      "enter a emailid: haii@gmail.com\n",
      "valid emailid\n"
     ]
    }
   ],
   "source": [
    "#email validator:\n",
    "#username@domain.extension\n",
    "import re\n",
    "email=input(\"enter a emailid: \")\n",
    "pattern=\"^[0-9a-z][0-9a-z_.]{3,20}[@][a-z]{5,9}[.][a-z]{2,5}$\"\n",
    "if re.match(pattern,email):\n",
    "    print(\"valid emailid\")\n",
    "else:\n",
    "    print(\"not a valid emailid\")"
   ]
  },
  {
   "cell_type": "code",
   "execution_count": null,
   "metadata": {},
   "outputs": [],
   "source": [
    "##### username--->[0-9a-z]-->1st character --->{5,20} limit\n",
    "         ---->[0-9a-z][0-9a-z_.]{5,20}\n",
    "#domain----->[a-z]{5,9}\n",
    "#extension--->[a-z]{2,4}"
   ]
  },
  {
   "cell_type": "code",
   "execution_count": null,
   "metadata": {},
   "outputs": [],
   "source": []
  },
  {
   "cell_type": "code",
   "execution_count": null,
   "metadata": {},
   "outputs": [],
   "source": [
    "#OOP's in python (object oriented programming):\n",
    "- class\n",
    "- objects\n",
    "- constructors\n",
    "- inheritance\n",
    "- packages and modules using oop's"
   ]
  },
  {
   "cell_type": "code",
   "execution_count": null,
   "metadata": {},
   "outputs": [],
   "source": [
    "- python is an object oriented programming language"
   ]
  },
  {
   "cell_type": "code",
   "execution_count": null,
   "metadata": {},
   "outputs": [],
   "source": [
    "#class:\n",
    "- class is a design or blueprint\n",
    "- class is a collection of objects\n",
    "#syn:\n",
    "class class_name:\n",
    "    list of variables\n",
    "    list of methods\n",
    "    \n",
    "    \n",
    "class---->keyword\n",
    "class_name--->name of the class\n",
    "\n",
    "- class is collection of variables and methods\n",
    "- variable:it is a memory location that holds values\n",
    "- function: collection of statements or block of code def  \n",
    "- method: if function existed inside the class then it is called as method"
   ]
  },
  {
   "cell_type": "code",
   "execution_count": 10,
   "metadata": {},
   "outputs": [],
   "source": [
    "class HII:\n",
    "    a=34.68\n",
    "    b=\"python\"\n",
    "    def hello(): #method\n",
    "        print(\"iam a method\")\n",
    "    def hii():\n",
    "        print(\"iam also a method\")"
   ]
  },
  {
   "cell_type": "code",
   "execution_count": 7,
   "metadata": {},
   "outputs": [
    {
     "data": {
      "text/plain": [
       "34.68"
      ]
     },
     "execution_count": 7,
     "metadata": {},
     "output_type": "execute_result"
    }
   ],
   "source": [
    "HII.a  #\".\" is a message calling operator"
   ]
  },
  {
   "cell_type": "code",
   "execution_count": 8,
   "metadata": {},
   "outputs": [
    {
     "data": {
      "text/plain": [
       "'python'"
      ]
     },
     "execution_count": 8,
     "metadata": {},
     "output_type": "execute_result"
    }
   ],
   "source": [
    "HII.b"
   ]
  },
  {
   "cell_type": "code",
   "execution_count": 9,
   "metadata": {},
   "outputs": [
    {
     "name": "stdout",
     "output_type": "stream",
     "text": [
      "iam a method\n"
     ]
    }
   ],
   "source": [
    "HII.hello()"
   ]
  },
  {
   "cell_type": "code",
   "execution_count": 11,
   "metadata": {},
   "outputs": [
    {
     "name": "stdout",
     "output_type": "stream",
     "text": [
      "iam also a method\n"
     ]
    }
   ],
   "source": [
    "HII.hii()"
   ]
  },
  {
   "cell_type": "code",
   "execution_count": null,
   "metadata": {},
   "outputs": [],
   "source": []
  },
  {
   "cell_type": "code",
   "execution_count": null,
   "metadata": {},
   "outputs": [],
   "source": [
    "#object:\n",
    "- object is a instance of class (sample copy of a class)\n",
    "- object is realtime entity\n",
    "- every object will have certain attributes and behaviour\n",
    "- ex:human\n",
    "    (height,name,age)---->attributes-variables\n",
    "    (dancing,eating,talking,drinking)---->behaviors--->methods\n",
    "    \n",
    "#syn:\n",
    "obj_name=class_name()"
   ]
  },
  {
   "cell_type": "code",
   "execution_count": 12,
   "metadata": {},
   "outputs": [],
   "source": [
    "class HII:\n",
    "    a=34.68\n",
    "    b=\"python\"\n",
    "    def hello(): #method\n",
    "        print(\"iam a method\")\n",
    "    def hii():\n",
    "        print(\"iam also a method\")"
   ]
  },
  {
   "cell_type": "code",
   "execution_count": 14,
   "metadata": {},
   "outputs": [
    {
     "name": "stdout",
     "output_type": "stream",
     "text": [
      "34.68\n",
      "python\n",
      "iam a method\n"
     ]
    }
   ],
   "source": [
    "obj=HII\n",
    "print(obj.a)\n",
    "print(obj.b)\n",
    "obj.hello()"
   ]
  },
  {
   "cell_type": "code",
   "execution_count": 15,
   "metadata": {},
   "outputs": [
    {
     "name": "stdout",
     "output_type": "stream",
     "text": [
      "iam also a method\n"
     ]
    }
   ],
   "source": [
    "obj.hii()"
   ]
  },
  {
   "cell_type": "code",
   "execution_count": 16,
   "metadata": {},
   "outputs": [
    {
     "name": "stdout",
     "output_type": "stream",
     "text": [
      "34.68\n",
      "python\n"
     ]
    },
    {
     "ename": "TypeError",
     "evalue": "hello() takes 0 positional arguments but 1 was given",
     "output_type": "error",
     "traceback": [
      "\u001b[1;31m---------------------------------------------------------------------------\u001b[0m",
      "\u001b[1;31mTypeError\u001b[0m                                 Traceback (most recent call last)",
      "\u001b[1;32m<ipython-input-16-82f9cda02d6d>\u001b[0m in \u001b[0;36m<module>\u001b[1;34m\u001b[0m\n\u001b[0;32m      2\u001b[0m \u001b[0mprint\u001b[0m\u001b[1;33m(\u001b[0m\u001b[0mobj\u001b[0m\u001b[1;33m.\u001b[0m\u001b[0ma\u001b[0m\u001b[1;33m)\u001b[0m\u001b[1;33m\u001b[0m\u001b[1;33m\u001b[0m\u001b[0m\n\u001b[0;32m      3\u001b[0m \u001b[0mprint\u001b[0m\u001b[1;33m(\u001b[0m\u001b[0mobj\u001b[0m\u001b[1;33m.\u001b[0m\u001b[0mb\u001b[0m\u001b[1;33m)\u001b[0m\u001b[1;33m\u001b[0m\u001b[1;33m\u001b[0m\u001b[0m\n\u001b[1;32m----> 4\u001b[1;33m \u001b[0mobj\u001b[0m\u001b[1;33m.\u001b[0m\u001b[0mhello\u001b[0m\u001b[1;33m(\u001b[0m\u001b[1;33m)\u001b[0m\u001b[1;33m\u001b[0m\u001b[1;33m\u001b[0m\u001b[0m\n\u001b[0m",
      "\u001b[1;31mTypeError\u001b[0m: hello() takes 0 positional arguments but 1 was given"
     ]
    }
   ],
   "source": [
    "obj=HII() #here() treated as one default argument--->self\n",
    "print(obj.a)\n",
    "print(obj.b)\n",
    "obj.hello()"
   ]
  },
  {
   "cell_type": "code",
   "execution_count": 17,
   "metadata": {},
   "outputs": [],
   "source": [
    "class cal:\n",
    "    def add(a,b):\n",
    "        return a+b\n",
    "    def sub(a,b):\n",
    "        return a-b\n",
    "    def div(a,b):\n",
    "        return a/b\n",
    "    def mul(a,b):\n",
    "        return a*b\n",
    "    def mod(a,b):\n",
    "        return a%b"
   ]
  },
  {
   "cell_type": "code",
   "execution_count": 25,
   "metadata": {},
   "outputs": [
    {
     "name": "stdout",
     "output_type": "stream",
     "text": [
      "30\n",
      "-10\n",
      "0.5\n",
      "200\n",
      "10\n"
     ]
    }
   ],
   "source": [
    "obj1=cal\n",
    "print(obj1.add(10,20))\n",
    "print(obj1.sub(10,20))\n",
    "print(obj1.div(10,20))\n",
    "print(obj1.mul(10,20))\n",
    "print(obj1.mod(10,20))"
   ]
  },
  {
   "cell_type": "code",
   "execution_count": 28,
   "metadata": {
    "scrolled": true
   },
   "outputs": [
    {
     "name": "stdout",
     "output_type": "stream",
     "text": [
      "i5 16gb 1tb\n"
     ]
    }
   ],
   "source": [
    "class computer:\n",
    "    def config(self): # com   #current reference object\n",
    "        print(\"i5\",\"16gb\",\"1tb\")\n",
    "com=computer\n",
    "com.config(\"py\")"
   ]
  },
  {
   "cell_type": "code",
   "execution_count": 30,
   "metadata": {},
   "outputs": [
    {
     "name": "stdout",
     "output_type": "stream",
     "text": [
      "i5 16gb 1tb\n"
     ]
    }
   ],
   "source": [
    "class computer:\n",
    "    def config(self): # com1 #current reference object\n",
    "        print(\"i5\",\"16gb\",\"1tb\")\n",
    "com1=computer()\n",
    "com1.config()"
   ]
  },
  {
   "cell_type": "code",
   "execution_count": null,
   "metadata": {},
   "outputs": [],
   "source": [
    "#constructors\n",
    "- constructor is a special type of method(function within a class)\n",
    "- which is used to intialize the instance members of a class\n",
    "- in python for creating constructors we will use __init__(self)\n",
    "- in constructor self is parameter finds the current reference object\n",
    "#syn:\n",
    "class class_name:\n",
    "    def __init__(self):  #self is default parameter\n",
    "        \n",
    "    def __init__(self,a,b):  #fisrt varaible is act as default parameter  #self\n",
    "        \n",
    "    def __init__(a,b,self): #fisrt varaible is act as default parameter  #a"
   ]
  },
  {
   "cell_type": "code",
   "execution_count": 32,
   "metadata": {},
   "outputs": [
    {
     "name": "stdout",
     "output_type": "stream",
     "text": [
      "i5 16gb 1 tb\n"
     ]
    }
   ],
   "source": [
    "class com:\n",
    "    def __init__(self):\n",
    "        print(\"iam constructor\")\n",
    "    def config(self):\n",
    "        print(\"i5\",\"16gb\",\"1 tb\")\n",
    "com2=com\n",
    "com2.config(4)"
   ]
  },
  {
   "cell_type": "code",
   "execution_count": 33,
   "metadata": {},
   "outputs": [
    {
     "name": "stdout",
     "output_type": "stream",
     "text": [
      "iam constructor\n"
     ]
    }
   ],
   "source": [
    "class com:\n",
    "    def __init__(self):\n",
    "        print(\"iam constructor\")\n",
    "    def config(self):\n",
    "        print(\"i5\",\"16gb\",\"1 tb\")\n",
    "com2=com()"
   ]
  },
  {
   "cell_type": "code",
   "execution_count": 34,
   "metadata": {},
   "outputs": [
    {
     "name": "stdout",
     "output_type": "stream",
     "text": [
      "iam constructor\n"
     ]
    }
   ],
   "source": [
    "com2.__init__()"
   ]
  },
  {
   "cell_type": "code",
   "execution_count": 39,
   "metadata": {},
   "outputs": [
    {
     "name": "stdout",
     "output_type": "stream",
     "text": [
      "34 i5 16\n"
     ]
    }
   ],
   "source": [
    "class computr:\n",
    "    def __init__(self,cpu,ram):\n",
    "        self.cpu=cpu\n",
    "        self.ram=ram\n",
    "    def config(self,a):\n",
    "        print(a,self.cpu,self.ram)\n",
    "com2=computr(\"i5\",16)\n",
    "com2.config(34)"
   ]
  },
  {
   "cell_type": "code",
   "execution_count": 42,
   "metadata": {},
   "outputs": [
    {
     "name": "stdout",
     "output_type": "stream",
     "text": [
      "9 ryzan3 8\n"
     ]
    }
   ],
   "source": [
    "com3=computr(\"ryzan3\",8)\n",
    "com3.config(9)"
   ]
  },
  {
   "cell_type": "code",
   "execution_count": 43,
   "metadata": {},
   "outputs": [
    {
     "name": "stdout",
     "output_type": "stream",
     "text": [
      "34 i5 16\n"
     ]
    }
   ],
   "source": [
    "class computr:\n",
    "    def __init__(cpu,ram,self):\n",
    "        cpu.ram=ram\n",
    "        cpu.self=self\n",
    "    def config(cpu,a):\n",
    "        print(a,cpu.ram,cpu.self)\n",
    "com2=computr(\"i5\",16)\n",
    "com2.config(34)"
   ]
  },
  {
   "cell_type": "code",
   "execution_count": 46,
   "metadata": {},
   "outputs": [
    {
     "name": "stdout",
     "output_type": "stream",
     "text": [
      "5\n",
      "6\n"
     ]
    }
   ],
   "source": [
    "class Math:\n",
    "    def __init__(abc,v1,v2):\n",
    "        abc.v1=v1\n",
    "        abc.v2=v2\n",
    "    def show(abc):\n",
    "        print(abc.v1)\n",
    "        print(abc.v2)\n",
    "    def add(abc,v3):\n",
    "        print(abc.v1+abc.v2+v3)\n",
    "m=Math(5,6)\n",
    "m.show()"
   ]
  },
  {
   "cell_type": "code",
   "execution_count": 48,
   "metadata": {},
   "outputs": [
    {
     "name": "stdout",
     "output_type": "stream",
     "text": [
      "15\n"
     ]
    }
   ],
   "source": [
    "m.add(4)"
   ]
  },
  {
   "cell_type": "code",
   "execution_count": null,
   "metadata": {},
   "outputs": [],
   "source": []
  },
  {
   "cell_type": "code",
   "execution_count": null,
   "metadata": {},
   "outputs": [],
   "source": [
    "#inheritance:\n",
    "- we can create a class which is uses all the properties and behaviour of another class\n",
    "- new class is called as a child,derived class,sub class\n",
    "- already existed class is called as base class,parent class,super class\n",
    "- re usability of the code\n",
    "#syn (parent):\n",
    "class Parent_Class():\n",
    "    \n",
    "#syn(child):\n",
    "class childclass(Parent_Class)\n",
    "\n",
    "#types of inheritances:\n",
    "- single inheritance\n",
    "- multiple inheritance\n",
    "- multi level inheritance\n",
    "- hierarchical inheritance\n",
    "- hybrid inheritance"
   ]
  },
  {
   "cell_type": "code",
   "execution_count": 49,
   "metadata": {},
   "outputs": [],
   "source": [
    "#single inheritance (one parent,one child)\n",
    "class Parent():\n",
    "    a,b=10,15\n",
    "    def display():\n",
    "        print(\"iam from parent class\")\n",
    "class Child(Parent):\n",
    "    c,d=23,67\n",
    "    def show():\n",
    "        print(\"iam from child class\")"
   ]
  },
  {
   "cell_type": "code",
   "execution_count": 55,
   "metadata": {},
   "outputs": [
    {
     "name": "stdout",
     "output_type": "stream",
     "text": [
      "10\n",
      "15\n"
     ]
    },
    {
     "ename": "AttributeError",
     "evalue": "type object 'Parent' has no attribute 'c'",
     "output_type": "error",
     "traceback": [
      "\u001b[1;31m---------------------------------------------------------------------------\u001b[0m",
      "\u001b[1;31mAttributeError\u001b[0m                            Traceback (most recent call last)",
      "\u001b[1;32m<ipython-input-55-8cca247f69f0>\u001b[0m in \u001b[0;36m<module>\u001b[1;34m\u001b[0m\n\u001b[0;32m      2\u001b[0m \u001b[0mprint\u001b[0m\u001b[1;33m(\u001b[0m\u001b[0mobj\u001b[0m\u001b[1;33m.\u001b[0m\u001b[0ma\u001b[0m\u001b[1;33m)\u001b[0m\u001b[1;33m\u001b[0m\u001b[1;33m\u001b[0m\u001b[0m\n\u001b[0;32m      3\u001b[0m \u001b[0mprint\u001b[0m\u001b[1;33m(\u001b[0m\u001b[0mobj\u001b[0m\u001b[1;33m.\u001b[0m\u001b[0mb\u001b[0m\u001b[1;33m)\u001b[0m\u001b[1;33m\u001b[0m\u001b[1;33m\u001b[0m\u001b[0m\n\u001b[1;32m----> 4\u001b[1;33m \u001b[0mprint\u001b[0m\u001b[1;33m(\u001b[0m\u001b[0mobj\u001b[0m\u001b[1;33m.\u001b[0m\u001b[0mc\u001b[0m\u001b[1;33m)\u001b[0m\u001b[1;33m\u001b[0m\u001b[1;33m\u001b[0m\u001b[0m\n\u001b[0m\u001b[0;32m      5\u001b[0m \u001b[0mobj\u001b[0m\u001b[1;33m.\u001b[0m\u001b[0mdisplay\u001b[0m\u001b[1;33m(\u001b[0m\u001b[1;33m)\u001b[0m\u001b[1;33m\u001b[0m\u001b[1;33m\u001b[0m\u001b[0m\n",
      "\u001b[1;31mAttributeError\u001b[0m: type object 'Parent' has no attribute 'c'"
     ]
    }
   ],
   "source": [
    "obj=Parent\n",
    "print(obj.a)\n",
    "print(obj.b)\n",
    "print(obj.c)\n",
    "obj.display()"
   ]
  },
  {
   "cell_type": "code",
   "execution_count": 62,
   "metadata": {},
   "outputs": [
    {
     "name": "stdout",
     "output_type": "stream",
     "text": [
      "23\n",
      "67\n",
      "10\n",
      "15\n",
      "iam from child class\n",
      "iam from parent class\n"
     ]
    }
   ],
   "source": [
    "obj=Child\n",
    "print(obj.c)\n",
    "print(obj.d)\n",
    "print(obj.a)\n",
    "print(obj.b)\n",
    "obj.show()\n",
    "obj.display()"
   ]
  },
  {
   "cell_type": "code",
   "execution_count": null,
   "metadata": {},
   "outputs": [],
   "source": []
  },
  {
   "cell_type": "code",
   "execution_count": 63,
   "metadata": {},
   "outputs": [],
   "source": [
    "#multiple inheritance(2 parents,1 child)\n",
    "class father():\n",
    "    def display1():\n",
    "        print(\"iam from father\")\n",
    "class mother():\n",
    "    def display2():\n",
    "        print(\"iam from mother\")\n",
    "class child(father,mother):\n",
    "    def show():\n",
    "        print(\"iam from child\")"
   ]
  },
  {
   "cell_type": "code",
   "execution_count": 69,
   "metadata": {},
   "outputs": [
    {
     "name": "stdout",
     "output_type": "stream",
     "text": [
      "iam from father\n",
      "iam from mother\n",
      "iam from child\n"
     ]
    }
   ],
   "source": [
    "obj=child\n",
    "obj.display1()\n",
    "obj.display2()\n",
    "obj.show()"
   ]
  },
  {
   "cell_type": "code",
   "execution_count": 73,
   "metadata": {},
   "outputs": [
    {
     "name": "stdout",
     "output_type": "stream",
     "text": [
      "iam from grandfather\n",
      "iam from father\n",
      "iam from child\n"
     ]
    }
   ],
   "source": [
    "#multilevel inheritance(grandfather----->father----->child)\n",
    "class grandfather():\n",
    "    def a():\n",
    "        print(\"iam from grandfather\")\n",
    "class father(grandfather):\n",
    "    def b():\n",
    "        print(\"iam from father\")\n",
    "class child(father):\n",
    "    def c():\n",
    "        print(\"iam from child\")\n",
    "        \n",
    "obj=child\n",
    "obj.a()\n",
    "obj.b()\n",
    "obj.c()"
   ]
  },
  {
   "cell_type": "code",
   "execution_count": null,
   "metadata": {},
   "outputs": [],
   "source": [
    "#task1\n",
    "#hyrarical inheritance(one parent,2 childs)\n",
    "class parent,class child1,class child2\n",
    "\n",
    "#task2\n",
    "#hybrid(all inheriitance)(multiple and multilevel)\n",
    "multiple--->parent1,parent2---->child(grandfather)\n",
    "multilevel--->grandfather--->father---->son\n",
    "class parent1,class parent2,class child_grandfather,class father,class son"
   ]
  },
  {
   "cell_type": "code",
   "execution_count": null,
   "metadata": {},
   "outputs": [],
   "source": [
    "parent1\n",
    "parent2\n",
    "child_grandfather\n",
    "father\n",
    "son"
   ]
  },
  {
   "cell_type": "code",
   "execution_count": null,
   "metadata": {},
   "outputs": [],
   "source": []
  },
  {
   "cell_type": "code",
   "execution_count": null,
   "metadata": {},
   "outputs": [],
   "source": [
    "# packages and modules using oop's:\n",
    "- module: collection of function/classes (.py file)\n",
    "- package:collection of modules (folder/directory)"
   ]
  },
  {
   "cell_type": "code",
   "execution_count": 77,
   "metadata": {},
   "outputs": [
    {
     "name": "stdout",
     "output_type": "stream",
     "text": [
      "7\n",
      "5\n",
      "30\n",
      "10.0\n",
      "1\n"
     ]
    }
   ],
   "source": [
    "from packages.sample import cal\n",
    "obj=cal\n",
    "print(obj.add(2,5))\n",
    "print(obj.sub(10,5))\n",
    "print(obj.mul(6,5))\n",
    "print(obj.div(50,5))\n",
    "print(obj.mod(111,5))"
   ]
  },
  {
   "cell_type": "code",
   "execution_count": 80,
   "metadata": {
    "scrolled": true
   },
   "outputs": [
    {
     "name": "stdout",
     "output_type": "stream",
     "text": [
      "2\n",
      "3\n",
      "9\n"
     ]
    }
   ],
   "source": [
    "from packages.sample import *\n",
    "obj1=Math(2,3)\n",
    "obj1.show()\n",
    "obj1.add(4)"
   ]
  },
  {
   "cell_type": "code",
   "execution_count": null,
   "metadata": {},
   "outputs": [],
   "source": [
    "#task1\n",
    "#hyrarical inheritance(one parent,2 childs)\n",
    "class parent,class child1,class child2\n",
    "\n",
    "#task2\n",
    "#hybrid(all inheriitance)(multiple and multilevel)\n",
    "multiple--->parent1,parent2---->child(grandfather)\n",
    "multilevel--->grandfather--->father---->son\n",
    "class parent1,class parent2,class child_grandfather,class father,class son"
   ]
  },
  {
   "cell_type": "markdown",
   "metadata": {},
   "source": [
    "for tommrrow's session you have to complete this all\n",
    "- create github account: https://github.com/join\n",
    "- download and install gitbash : https://git-scm.com/downloads \n",
    "- github apssdc registration: http://engineering.apssdc.in/register/\n",
    "                             programtype: **workshops**\n",
    "                             program: **source code management git and github**\n",
    "                             course: **git and github**"
   ]
  }
 ],
 "metadata": {
  "kernelspec": {
   "display_name": "Python 3",
   "language": "python",
   "name": "python3"
  },
  "language_info": {
   "codemirror_mode": {
    "name": "ipython",
    "version": 3
   },
   "file_extension": ".py",
   "mimetype": "text/x-python",
   "name": "python",
   "nbconvert_exporter": "python",
   "pygments_lexer": "ipython3",
   "version": "3.7.3"
  }
 },
 "nbformat": 4,
 "nbformat_minor": 2
}
