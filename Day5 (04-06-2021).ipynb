{
 "cells": [
  {
   "cell_type": "code",
   "execution_count": null,
   "metadata": {},
   "outputs": [],
   "source": [
    "# Day objectives:\n",
    "- Function (continution...)(user defined functions)\n",
    "- Strings"
   ]
  },
  {
   "cell_type": "code",
   "execution_count": null,
   "metadata": {},
   "outputs": [],
   "source": []
  },
  {
   "cell_type": "code",
   "execution_count": null,
   "metadata": {},
   "outputs": [],
   "source": [
    "#Functions (userdefined functions):\n",
    "- functions defined by the users themselves"
   ]
  },
  {
   "cell_type": "code",
   "execution_count": 4,
   "metadata": {},
   "outputs": [
    {
     "name": "stdout",
     "output_type": "stream",
     "text": [
      "7\n",
      "avg:  4.0\n"
     ]
    }
   ],
   "source": [
    "def average(n):\n",
    "    s=0\n",
    "    c=0\n",
    "    for i in range(1,n+1):#1,2,3,4,5,6,7\n",
    "        s+=i #s=s+i\n",
    "        c+=1 #c=c+1\n",
    "    #print(\"count:\",c)\n",
    "    #print(\"sum:\",s)\n",
    "    print(\"avg: \",s/c)\n",
    "n=int(input())\n",
    "average(n)"
   ]
  },
  {
   "cell_type": "code",
   "execution_count": 5,
   "metadata": {},
   "outputs": [
    {
     "data": {
      "text/plain": [
       "4.0"
      ]
     },
     "execution_count": 5,
     "metadata": {},
     "output_type": "execute_result"
    }
   ],
   "source": [
    "28/7"
   ]
  },
  {
   "cell_type": "code",
   "execution_count": null,
   "metadata": {},
   "outputs": [],
   "source": [
    "s=s+i\n",
    "s=0\n",
    "s=0+1=1\n",
    "s=1+2=3\n",
    "s=3+3=6\n",
    "s=6+4=10\n",
    "s=10+5=15\n",
    "s=15+6=21\n",
    "s=21+7=28"
   ]
  },
  {
   "cell_type": "code",
   "execution_count": null,
   "metadata": {},
   "outputs": [],
   "source": [
    "c=c+1\n",
    "c=0\n",
    "c=0+1=1\n",
    "c=1+1=2\n",
    "c=2+1=3\n",
    "c=3+1=4\n",
    "c=4+1=5\n",
    "c=5+1=6\n",
    "c=6+1=7\n"
   ]
  },
  {
   "cell_type": "code",
   "execution_count": 27,
   "metadata": {},
   "outputs": [
    {
     "name": "stdout",
     "output_type": "stream",
     "text": [
      "6\n",
      "1 2 3 "
     ]
    }
   ],
   "source": [
    "# factors of a given number\n",
    "def factors(n):\n",
    "    for i in range(1,n):#1,2,3,4,5\n",
    "        if n%i==0:\n",
    "            print(i,end=\" \") \n",
    "n=int(input())\n",
    "factors(n)"
   ]
  },
  {
   "cell_type": "code",
   "execution_count": null,
   "metadata": {},
   "outputs": [],
   "source": [
    "6\n",
    "1 to 6\n",
    "n%i==0\n",
    "6%1==0===>1\n",
    "6%2==0--->2\n",
    "6%3==0--->3\n",
    "6%4==0\n",
    "6%5==0\n",
    "6%6==0--->6"
   ]
  },
  {
   "cell_type": "code",
   "execution_count": 12,
   "metadata": {},
   "outputs": [
    {
     "data": {
      "text/plain": [
       "False"
      ]
     },
     "execution_count": 12,
     "metadata": {},
     "output_type": "execute_result"
    }
   ],
   "source": [
    "6%5==0"
   ]
  },
  {
   "cell_type": "code",
   "execution_count": 19,
   "metadata": {},
   "outputs": [
    {
     "name": "stdout",
     "output_type": "stream",
     "text": [
      "1600\n",
      "leap year\n"
     ]
    }
   ],
   "source": [
    "#given year is a leap year or not?\n",
    "def leapyear(year):\n",
    "    if (year%4==0 and year%100!=0) or year%400==0 :\n",
    "        print(\"leap year\")\n",
    "    else:\n",
    "        print(\"not leapyear\")   \n",
    "year=int(input())\n",
    "leapyear(year)"
   ]
  },
  {
   "cell_type": "code",
   "execution_count": null,
   "metadata": {},
   "outputs": [],
   "source": [
    "#(year%4==0 and year%100!=0)--->non century years\n",
    "#(year%400==0)---->century years"
   ]
  },
  {
   "cell_type": "code",
   "execution_count": null,
   "metadata": {},
   "outputs": [],
   "source": []
  },
  {
   "cell_type": "code",
   "execution_count": 22,
   "metadata": {},
   "outputs": [
    {
     "name": "stdout",
     "output_type": "stream",
     "text": [
      "6\n",
      "720\n"
     ]
    }
   ],
   "source": [
    "#factorial of a given number\n",
    "#6-->6*5*4*3*2*1=720\n",
    "def factorial(x):\n",
    "    fact=1\n",
    "    for i in range(1,x+1):#1,2,3,4,5,6\n",
    "        fact=fact*i\n",
    "    print(fact)   \n",
    "x=int(input())\n",
    "factorial(x)"
   ]
  },
  {
   "cell_type": "code",
   "execution_count": null,
   "metadata": {},
   "outputs": [],
   "source": [
    "fact=fact*i\n",
    "fact=1\n",
    "fact=1*1=1\n",
    "fact=1*2=2\n",
    "fact=2*3=6\n",
    "fact=6*4=24\n",
    "fact=24*5=120\n",
    "fact=120*6=720"
   ]
  },
  {
   "cell_type": "code",
   "execution_count": null,
   "metadata": {},
   "outputs": [],
   "source": []
  },
  {
   "cell_type": "code",
   "execution_count": 25,
   "metadata": {},
   "outputs": [
    {
     "name": "stdout",
     "output_type": "stream",
     "text": [
      "1\n",
      "5\n",
      "2 3 5 "
     ]
    }
   ],
   "source": [
    "# primenumbers between the given range\n",
    "# a positive integer greater than 1 which has no other factors except 1 and itself \n",
    "def prime(a,b):\n",
    "    for i in range(a,b+1):#1,2,3,4,5\n",
    "        if i>1:\n",
    "            for n in range(2,i):\n",
    "                if (i%n==0):\n",
    "                    break\n",
    "            else:\n",
    "                print(i,end=\" \")   \n",
    "a=int(input())\n",
    "b=int(input())\n",
    "prime(a,b)"
   ]
  },
  {
   "cell_type": "code",
   "execution_count": null,
   "metadata": {},
   "outputs": [],
   "source": [
    "#tasks: use only functions and dynamic inputs\n",
    "- check the given number is divisible by 6 and 8 but not with 5 (1 to 100)\n",
    "- check the given number is perfect or not (sum factors=given number)\n",
    "- print charsum --->string input = abad =1+2+1+4=8"
   ]
  },
  {
   "cell_type": "code",
   "execution_count": 33,
   "metadata": {},
   "outputs": [
    {
     "data": {
      "text/plain": [
       "1"
      ]
     },
     "execution_count": 33,
     "metadata": {},
     "output_type": "execute_result"
    }
   ],
   "source": [
    "ord('a')-96"
   ]
  },
  {
   "cell_type": "code",
   "execution_count": 36,
   "metadata": {
    "scrolled": true
   },
   "outputs": [
    {
     "data": {
      "text/plain": [
       "2"
      ]
     },
     "execution_count": 36,
     "metadata": {},
     "output_type": "execute_result"
    }
   ],
   "source": [
    "ord('b')-96"
   ]
  },
  {
   "cell_type": "code",
   "execution_count": 34,
   "metadata": {},
   "outputs": [
    {
     "data": {
      "text/plain": [
       "3"
      ]
     },
     "execution_count": 34,
     "metadata": {},
     "output_type": "execute_result"
    }
   ],
   "source": [
    "ord('c')-96"
   ]
  },
  {
   "cell_type": "code",
   "execution_count": 35,
   "metadata": {},
   "outputs": [
    {
     "data": {
      "text/plain": [
       "4"
      ]
     },
     "execution_count": 35,
     "metadata": {},
     "output_type": "execute_result"
    }
   ],
   "source": [
    "ord('d')-96"
   ]
  },
  {
   "cell_type": "code",
   "execution_count": null,
   "metadata": {},
   "outputs": [],
   "source": []
  },
  {
   "cell_type": "code",
   "execution_count": null,
   "metadata": {},
   "outputs": [],
   "source": [
    "# Strings in python:\n",
    "- string is a group of charcters or sequence of charcters\n",
    "- one of most popular datatype\n",
    "- python strings are created with single quotes,double quotes,triple quotes also\n",
    "- strings are immutable\n",
    "    - once we defined,they can't be changed"
   ]
  },
  {
   "cell_type": "code",
   "execution_count": 37,
   "metadata": {},
   "outputs": [
    {
     "name": "stdout",
     "output_type": "stream",
     "text": [
      "python\n"
     ]
    }
   ],
   "source": [
    "s='python'\n",
    "print(s)"
   ]
  },
  {
   "cell_type": "code",
   "execution_count": 38,
   "metadata": {},
   "outputs": [
    {
     "name": "stdout",
     "output_type": "stream",
     "text": [
      "python\n"
     ]
    }
   ],
   "source": [
    "s=\"python\"\n",
    "print(s)"
   ]
  },
  {
   "cell_type": "code",
   "execution_count": 39,
   "metadata": {},
   "outputs": [
    {
     "name": "stdout",
     "output_type": "stream",
     "text": [
      "python\n"
     ]
    }
   ],
   "source": [
    "s=\"\"\"python\"\"\"\n",
    "print(s)"
   ]
  },
  {
   "cell_type": "code",
   "execution_count": 40,
   "metadata": {},
   "outputs": [
    {
     "name": "stdout",
     "output_type": "stream",
     "text": [
      "python\n",
      "<class 'str'>\n"
     ]
    }
   ],
   "source": [
    "s=\"python\"\n",
    "print(s)\n",
    "print(type(s))"
   ]
  },
  {
   "cell_type": "code",
   "execution_count": 41,
   "metadata": {},
   "outputs": [
    {
     "name": "stdout",
     "output_type": "stream",
     "text": [
      "546345apsghfdghf##%%%\n",
      "<class 'str'>\n"
     ]
    }
   ],
   "source": [
    "s=\"546345apsghfdghf##%%%\"\n",
    "print(s)\n",
    "print(type(s))"
   ]
  },
  {
   "cell_type": "code",
   "execution_count": 42,
   "metadata": {},
   "outputs": [
    {
     "name": "stdout",
     "output_type": "stream",
     "text": [
      "89\n",
      "<class 'str'>\n"
     ]
    }
   ],
   "source": [
    "s=\"89\"\n",
    "print(s)\n",
    "print(type(s))"
   ]
  },
  {
   "cell_type": "code",
   "execution_count": null,
   "metadata": {},
   "outputs": [],
   "source": [
    "int+float--->>true\n",
    "str+int----->>False\n",
    "int+int----->true\n",
    "str+float---->False\n",
    "str+str----->true"
   ]
  },
  {
   "cell_type": "code",
   "execution_count": 49,
   "metadata": {},
   "outputs": [
    {
     "name": "stdout",
     "output_type": "stream",
     "text": [
      "pythonworkshop\n",
      "python workshop\n",
      "python workshop\n",
      "pythonpythonpython\n"
     ]
    }
   ],
   "source": [
    "s1=\"python\"\n",
    "s2=\"workshop\"\n",
    "print(s1+s2) #conctnation\n",
    "print(s1+' '+s2)\n",
    "print(s1,s2)\n",
    "print(s1*3) #repetation"
   ]
  },
  {
   "cell_type": "code",
   "execution_count": null,
   "metadata": {},
   "outputs": [],
   "source": [
    "#Indexing:\n",
    "- retrive values using indexing\n",
    "- 2 types indexing:\n",
    "    - positive indexing\n",
    "        - starts from left side of string and it holds zero\n",
    "        - positive index: 0,1,2,3,....\n",
    "    - negtive indexing\n",
    "        - starts from right side of string and it holds -1\n",
    "        - negative indexing: -1,-2,-3,-4,.....\n",
    "- syn: string_variable[position]\n",
    "- to retrive specific string by using slicing \n",
    "    - string slicing:\n",
    "        -syn: string_variable[start:end+1:step+1]"
   ]
  },
  {
   "cell_type": "code",
   "execution_count": 53,
   "metadata": {},
   "outputs": [
    {
     "name": "stdout",
     "output_type": "stream",
     "text": [
      "p\n",
      "y\n",
      "t\n",
      "h\n",
      "o\n",
      "n\n"
     ]
    },
    {
     "ename": "IndexError",
     "evalue": "string index out of range",
     "output_type": "error",
     "traceback": [
      "\u001b[1;31m---------------------------------------------------------------------------\u001b[0m",
      "\u001b[1;31mIndexError\u001b[0m                                Traceback (most recent call last)",
      "\u001b[1;32m<ipython-input-53-6d36b2ec9808>\u001b[0m in \u001b[0;36m<module>\u001b[1;34m\u001b[0m\n\u001b[0;32m      6\u001b[0m \u001b[0mprint\u001b[0m\u001b[1;33m(\u001b[0m\u001b[0ms\u001b[0m\u001b[1;33m[\u001b[0m\u001b[1;36m4\u001b[0m\u001b[1;33m]\u001b[0m\u001b[1;33m)\u001b[0m\u001b[1;33m\u001b[0m\u001b[1;33m\u001b[0m\u001b[0m\n\u001b[0;32m      7\u001b[0m \u001b[0mprint\u001b[0m\u001b[1;33m(\u001b[0m\u001b[0ms\u001b[0m\u001b[1;33m[\u001b[0m\u001b[1;36m5\u001b[0m\u001b[1;33m]\u001b[0m\u001b[1;33m)\u001b[0m\u001b[1;33m\u001b[0m\u001b[1;33m\u001b[0m\u001b[0m\n\u001b[1;32m----> 8\u001b[1;33m \u001b[0mprint\u001b[0m\u001b[1;33m(\u001b[0m\u001b[0ms\u001b[0m\u001b[1;33m[\u001b[0m\u001b[1;36m6\u001b[0m\u001b[1;33m]\u001b[0m\u001b[1;33m)\u001b[0m\u001b[1;33m\u001b[0m\u001b[1;33m\u001b[0m\u001b[0m\n\u001b[0m",
      "\u001b[1;31mIndexError\u001b[0m: string index out of range"
     ]
    }
   ],
   "source": [
    "#positive indexing\n",
    "s=\"python\"\n",
    "print(s[0])\n",
    "print(s[1])\n",
    "print(s[2])\n",
    "print(s[3])\n",
    "print(s[4])\n",
    "print(s[5])\n",
    "print(s[6])"
   ]
  },
  {
   "cell_type": "code",
   "execution_count": 63,
   "metadata": {},
   "outputs": [
    {
     "name": "stdout",
     "output_type": "stream",
     "text": [
      "w\n",
      "o\n",
      "o\n",
      "o\n",
      " \n"
     ]
    }
   ],
   "source": [
    "s=\"python workshop\"\n",
    "print(s[7])\n",
    "print(s[13])\n",
    "print(s[4])\n",
    "print(s[8])\n",
    "print(s[6])"
   ]
  },
  {
   "cell_type": "code",
   "execution_count": 59,
   "metadata": {},
   "outputs": [
    {
     "name": "stdout",
     "output_type": "stream",
     "text": [
      "n\n",
      "o\n",
      "h\n",
      "t\n",
      "y\n",
      "p\n"
     ]
    },
    {
     "ename": "IndexError",
     "evalue": "string index out of range",
     "output_type": "error",
     "traceback": [
      "\u001b[1;31m---------------------------------------------------------------------------\u001b[0m",
      "\u001b[1;31mIndexError\u001b[0m                                Traceback (most recent call last)",
      "\u001b[1;32m<ipython-input-59-2a9699df3474>\u001b[0m in \u001b[0;36m<module>\u001b[1;34m\u001b[0m\n\u001b[0;32m      7\u001b[0m \u001b[0mprint\u001b[0m\u001b[1;33m(\u001b[0m\u001b[0ms\u001b[0m\u001b[1;33m[\u001b[0m\u001b[1;33m-\u001b[0m\u001b[1;36m5\u001b[0m\u001b[1;33m]\u001b[0m\u001b[1;33m)\u001b[0m\u001b[1;33m\u001b[0m\u001b[1;33m\u001b[0m\u001b[0m\n\u001b[0;32m      8\u001b[0m \u001b[0mprint\u001b[0m\u001b[1;33m(\u001b[0m\u001b[0ms\u001b[0m\u001b[1;33m[\u001b[0m\u001b[1;33m-\u001b[0m\u001b[1;36m6\u001b[0m\u001b[1;33m]\u001b[0m\u001b[1;33m)\u001b[0m\u001b[1;33m\u001b[0m\u001b[1;33m\u001b[0m\u001b[0m\n\u001b[1;32m----> 9\u001b[1;33m \u001b[0mprint\u001b[0m\u001b[1;33m(\u001b[0m\u001b[0ms\u001b[0m\u001b[1;33m[\u001b[0m\u001b[1;33m-\u001b[0m\u001b[1;36m7\u001b[0m\u001b[1;33m]\u001b[0m\u001b[1;33m)\u001b[0m\u001b[1;33m\u001b[0m\u001b[1;33m\u001b[0m\u001b[0m\n\u001b[0m",
      "\u001b[1;31mIndexError\u001b[0m: string index out of range"
     ]
    }
   ],
   "source": [
    "#negtive indexing\n",
    "s=\"python\"\n",
    "print(s[-1])\n",
    "print(s[-2])\n",
    "print(s[-3])\n",
    "print(s[-4])\n",
    "print(s[-5])\n",
    "print(s[-6])\n",
    "print(s[-7])"
   ]
  },
  {
   "cell_type": "code",
   "execution_count": 62,
   "metadata": {},
   "outputs": [
    {
     "name": "stdout",
     "output_type": "stream",
     "text": [
      "k\n",
      "y\n",
      " \n"
     ]
    }
   ],
   "source": [
    "s=\"python workshop\"\n",
    "print(s[-5])\n",
    "print(s[-14])\n",
    "print(s[-9])"
   ]
  },
  {
   "cell_type": "code",
   "execution_count": 76,
   "metadata": {},
   "outputs": [
    {
     "name": "stdout",
     "output_type": "stream",
     "text": [
      "python workshop\n",
      "ython workshop\n",
      "thon\n",
      "python w\n",
      "pnk\n",
      "ython w\n",
      "yhnw\n",
      "pohskrow nohtyp\n",
      "phko otp\n",
      "pro\n"
     ]
    }
   ],
   "source": [
    "#string_variable[start:end+1:step+1]\n",
    "#string slicing:\n",
    "s=\"python workshop\"\n",
    "print(s[:])\n",
    "print(s[1:])\n",
    "print(s[2:6])\n",
    "print(s[:8])\n",
    "print(s[::5])\n",
    "print(s[1:8:1])\n",
    "print(s[1:8:2])\n",
    "print(s[::-1])\n",
    "print(s[::-2])\n",
    "print(s[::-5])"
   ]
  },
  {
   "cell_type": "code",
   "execution_count": 90,
   "metadata": {},
   "outputs": [
    {
     "name": "stdout",
     "output_type": "stream",
     "text": [
      "python workshop\n",
      "thon workshop\n",
      "hon work\n",
      "python wor\n",
      "\n",
      "rksho\n",
      "\n",
      "rkshop\n",
      "n worksh\n",
      "\n",
      "osrw\n"
     ]
    }
   ],
   "source": [
    "s=\"python workshop\"\n",
    "print(s[:])\n",
    "print(s[-13:])\n",
    "print(s[-12:-4])\n",
    "print(s[:-5])\n",
    "print(s[-4:-12]) #doesn't display\n",
    "print(s[-6:-1])\n",
    "print(s[-6:0]) #doesn't display\n",
    "print(s[-6:])\n",
    "print(s[-10:-2])\n",
    "print(s[-10:-2:-2]) #\n",
    "print(s[-2:-10:-2]) #if you use step in negtive indexing then you have to small value first ,big value last"
   ]
  },
  {
   "cell_type": "code",
   "execution_count": null,
   "metadata": {},
   "outputs": [],
   "source": [
    "#in negtive step value\n",
    "#syn:\n",
    "string_variable[start:end+1:step+1]   ---->positive step value\n",
    "string_variable[end:start+1:step+1]   ----->negtive step value"
   ]
  },
  {
   "cell_type": "code",
   "execution_count": null,
   "metadata": {},
   "outputs": [],
   "source": []
  },
  {
   "cell_type": "code",
   "execution_count": 93,
   "metadata": {},
   "outputs": [
    {
     "name": "stdout",
     "output_type": "stream",
     "text": [
      "j\n",
      "n\n",
      "nbkjjgvehj cvbjkjxhgfgipoxgdfcgkhj\n"
     ]
    }
   ],
   "source": [
    "s=\"jhkgcfdgxopigfghxjkjbvc jhevgjjkbn\"\n",
    "print(s[0])\n",
    "print(s[-1])\n",
    "print(s[::-1])"
   ]
  },
  {
   "cell_type": "code",
   "execution_count": 94,
   "metadata": {
    "scrolled": true
   },
   "outputs": [
    {
     "name": "stdout",
     "output_type": "stream",
     "text": [
      "['__add__', '__class__', '__contains__', '__delattr__', '__dir__', '__doc__', '__eq__', '__format__', '__ge__', '__getattribute__', '__getitem__', '__getnewargs__', '__gt__', '__hash__', '__init__', '__init_subclass__', '__iter__', '__le__', '__len__', '__lt__', '__mod__', '__mul__', '__ne__', '__new__', '__reduce__', '__reduce_ex__', '__repr__', '__rmod__', '__rmul__', '__setattr__', '__sizeof__', '__str__', '__subclasshook__', 'capitalize', 'casefold', 'center', 'count', 'encode', 'endswith', 'expandtabs', 'find', 'format', 'format_map', 'index', 'isalnum', 'isalpha', 'isascii', 'isdecimal', 'isdigit', 'isidentifier', 'islower', 'isnumeric', 'isprintable', 'isspace', 'istitle', 'isupper', 'join', 'ljust', 'lower', 'lstrip', 'maketrans', 'partition', 'replace', 'rfind', 'rindex', 'rjust', 'rpartition', 'rsplit', 'rstrip', 'split', 'splitlines', 'startswith', 'strip', 'swapcase', 'title', 'translate', 'upper', 'zfill']\n"
     ]
    }
   ],
   "source": [
    "#string methods:\n",
    "print(dir(str))"
   ]
  },
  {
   "cell_type": "code",
   "execution_count": null,
   "metadata": {},
   "outputs": [],
   "source": [
    "#syn: string_variable.method()"
   ]
  },
  {
   "cell_type": "code",
   "execution_count": 95,
   "metadata": {},
   "outputs": [
    {
     "name": "stdout",
     "output_type": "stream",
     "text": [
      "Python training\n"
     ]
    }
   ],
   "source": [
    "w=\"python training\"\n",
    "print(w.capitalize()) #only first letter is capital"
   ]
  },
  {
   "cell_type": "code",
   "execution_count": 96,
   "metadata": {},
   "outputs": [
    {
     "name": "stdout",
     "output_type": "stream",
     "text": [
      "Python Training\n"
     ]
    }
   ],
   "source": [
    "w=\"python training\"\n",
    "print(w.title())   #each word starts with capital"
   ]
  },
  {
   "cell_type": "code",
   "execution_count": 97,
   "metadata": {},
   "outputs": [
    {
     "name": "stdout",
     "output_type": "stream",
     "text": [
      "python training\n"
     ]
    }
   ],
   "source": [
    "w=\"python TRAINING\"\n",
    "print(w.casefold()) #converts capital into small"
   ]
  },
  {
   "cell_type": "code",
   "execution_count": 100,
   "metadata": {},
   "outputs": [
    {
     "name": "stdout",
     "output_type": "stream",
     "text": [
      "pssvani\n"
     ]
    }
   ],
   "source": [
    "w=\"pßvani\"\n",
    "print(w.casefold())"
   ]
  },
  {
   "cell_type": "code",
   "execution_count": 98,
   "metadata": {},
   "outputs": [
    {
     "name": "stdout",
     "output_type": "stream",
     "text": [
      "python training\n"
     ]
    }
   ],
   "source": [
    "w=\"python TRAINING\"\n",
    "print(w.lower())  ##converts capital into small"
   ]
  },
  {
   "cell_type": "code",
   "execution_count": 101,
   "metadata": {},
   "outputs": [
    {
     "name": "stdout",
     "output_type": "stream",
     "text": [
      "pßvani\n"
     ]
    }
   ],
   "source": [
    "w=\"pßvani\"\n",
    "print(w.lower())"
   ]
  },
  {
   "cell_type": "code",
   "execution_count": 105,
   "metadata": {},
   "outputs": [
    {
     "data": {
      "text/plain": [
       "'$$python$$'"
      ]
     },
     "execution_count": 105,
     "metadata": {},
     "output_type": "execute_result"
    }
   ],
   "source": [
    "d=\"python\"\n",
    "d.center(10,'$')"
   ]
  },
  {
   "cell_type": "code",
   "execution_count": 107,
   "metadata": {},
   "outputs": [
    {
     "data": {
      "text/plain": [
       "2"
      ]
     },
     "execution_count": 107,
     "metadata": {},
     "output_type": "execute_result"
    }
   ],
   "source": [
    "d=\"python training\"\n",
    "d.count('i')"
   ]
  },
  {
   "cell_type": "code",
   "execution_count": 108,
   "metadata": {},
   "outputs": [
    {
     "data": {
      "text/plain": [
       "3"
      ]
     },
     "execution_count": 108,
     "metadata": {},
     "output_type": "execute_result"
    }
   ],
   "source": [
    "d.count('n')"
   ]
  },
  {
   "cell_type": "code",
   "execution_count": 109,
   "metadata": {},
   "outputs": [
    {
     "name": "stdout",
     "output_type": "stream",
     "text": [
      "b'my name is P\\xc3\\xa4v\\xc3\\x82ni'\n"
     ]
    }
   ],
   "source": [
    "txt=\"my name is PävÂni\"\n",
    "x=txt.encode()\n",
    "print(x)"
   ]
  },
  {
   "cell_type": "code",
   "execution_count": 112,
   "metadata": {},
   "outputs": [
    {
     "name": "stdout",
     "output_type": "stream",
     "text": [
      "Hello Sy!\n"
     ]
    }
   ],
   "source": [
    "txt=\"Hello Py!\"\n",
    "m=txt.maketrans(\"P\",\"S\")\n",
    "print(txt.translate(m))"
   ]
  },
  {
   "cell_type": "code",
   "execution_count": 116,
   "metadata": {},
   "outputs": [
    {
     "name": "stdout",
     "output_type": "stream",
     "text": [
      "True\n",
      "False\n",
      "True\n",
      "False\n"
     ]
    }
   ],
   "source": [
    "c=\"python programming\"\n",
    "print(c.startswith('p'))\n",
    "print(c.startswith('g'))\n",
    "print(c.endswith('g'))\n",
    "print(c.endswith('p'))"
   ]
  },
  {
   "cell_type": "code",
   "execution_count": 119,
   "metadata": {},
   "outputs": [
    {
     "name": "stdout",
     "output_type": "stream",
     "text": [
      "H  E  L  L  O\n"
     ]
    }
   ],
   "source": [
    "x=\"H\\tE\\tL\\tL\\tO\"\n",
    "s=x.expandtabs(3)\n",
    "print(s)"
   ]
  },
  {
   "cell_type": "code",
   "execution_count": null,
   "metadata": {},
   "outputs": [],
   "source": [
    "#tasks: use only functions and dynamic inputs\n",
    "- check the given number is divisible by 6 and 8 but not with 5 (1 to 100)\n",
    "- check the given number is perfect or not (sum factors=given number)\n",
    "- print charsum --->string input = abad =1+2+1+4=8\n",
    "- check string is a palindrome or not using function and dynamic input  (ex:malayalam,mam,dad......)"
   ]
  },
  {
   "cell_type": "code",
   "execution_count": null,
   "metadata": {},
   "outputs": [],
   "source": []
  }
 ],
 "metadata": {
  "kernelspec": {
   "display_name": "Python 3",
   "language": "python",
   "name": "python3"
  },
  "language_info": {
   "codemirror_mode": {
    "name": "ipython",
    "version": 3
   },
   "file_extension": ".py",
   "mimetype": "text/x-python",
   "name": "python",
   "nbconvert_exporter": "python",
   "pygments_lexer": "ipython3",
   "version": "3.7.3"
  }
 },
 "nbformat": 4,
 "nbformat_minor": 2
}
